{
 "cells": [
  {
   "cell_type": "code",
   "execution_count": 19,
   "metadata": {},
   "outputs": [
    {
     "name": "stdout",
     "output_type": "stream",
     "text": [
      "Ваш алгоритм угадывает число в среднем за 6 попыток\n"
     ]
    }
   ],
   "source": [
    "i=100 #Количество элементов выборки\n",
    "\n",
    "import numpy as np\n",
    "number=np.random.randint(1,i+1) #Задаем случайное число\n",
    "\n",
    "#Функция для определения случайного числа \n",
    "\n",
    "def game_core_v1(variable):\n",
    "\n",
    "    #формируем выборку для анализа\n",
    "    \n",
    "    sample_data = []\n",
    "    for cell in range(1,i+1):\n",
    "        sample_data.append(cell)\n",
    "    \n",
    "    count=0 #Количество попыток\n",
    "    \n",
    "    #Поиск случайного числа\n",
    "    \n",
    "    while len(sample_data) > 1: \n",
    "        \n",
    "        if len(sample_data) % 2 == 0:\n",
    "            j = int((len(sample_data)) / 2)\n",
    "        else: \n",
    "            j = int((len(sample_data)) // 2)\n",
    "        \n",
    "        if variable in sample_data[:j]:\n",
    "            sample_data = sample_data[:j]\n",
    "            count += 1\n",
    "        else:\n",
    "            sample_data = sample_data[j:]\n",
    "            count += 1\n",
    "            \n",
    "    return sample_data,count     \n",
    "\n",
    "#Функция для определения среднего числа попыток поиска\n",
    "def score_game(game_core):\n",
    "    \n",
    "    '''Запускаем игру 1000 раз, чтобы узнать, как быстро игра угадывает число'''\n",
    "    count_ls = []\n",
    "    np.random.seed(1)  # фиксируем RANDOM SEED, чтобы ваш эксперимент был воспроизводим!\n",
    "    random_array = np.random.randint(1,101, size=(1000))\n",
    "    \n",
    "    #Цикл поиска чисел из массива с случайными числами\n",
    "    for number in random_array:\n",
    "        count_ls.append(game_core(number)[1])\n",
    "    score = int(np.mean(count_ls))\n",
    "    \n",
    "    return(score)\n",
    "\n",
    "#Вывод результатов\n",
    "#print(\"Ваш алгоритм угадывает число в среднем за {} попыток\".format(score_game(game_core_v1)))\n",
    "print(game_core_v1(number))"
   ]
  }
 ],
 "metadata": {
  "kernelspec": {
   "display_name": "Python 3",
   "language": "python",
   "name": "python3"
  },
  "language_info": {
   "codemirror_mode": {
    "name": "ipython",
    "version": 3
   },
   "file_extension": ".py",
   "mimetype": "text/x-python",
   "name": "python",
   "nbconvert_exporter": "python",
   "pygments_lexer": "ipython3",
   "version": "3.7.6"
  }
 },
 "nbformat": 4,
 "nbformat_minor": 4
}
