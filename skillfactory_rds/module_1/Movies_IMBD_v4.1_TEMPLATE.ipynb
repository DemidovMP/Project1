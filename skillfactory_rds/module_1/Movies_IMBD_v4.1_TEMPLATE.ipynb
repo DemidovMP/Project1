{
 "cells": [
  {
   "cell_type": "code",
   "execution_count": 1,
   "metadata": {
    "_cell_guid": "b1076dfc-b9ad-4769-8c92-a6c4dae69d19",
    "_uuid": "8f2839f25d086af736a60e9eeb907d3b93b6e0e5",
    "colab": {},
    "colab_type": "code",
    "id": "U2D2gTdJVp90"
   },
   "outputs": [],
   "source": [
    "import numpy as np\n",
    "import pandas as pd\n",
    "import seaborn as sns\n",
    "import matplotlib.pyplot as plt\n",
    "from collections import Counter\n",
    "import re"
   ]
  },
  {
   "cell_type": "code",
   "execution_count": 2,
   "metadata": {
    "_cell_guid": "79c7e3d0-c299-4dcb-8224-4455121ee9b0",
    "_uuid": "d629ff2d2480ee46fbb7e2d37f6b5fab8052498a",
    "colab": {},
    "colab_type": "code",
    "id": "oyGfxL3eVp9-"
   },
   "outputs": [
    {
     "data": {
      "text/html": [
       "<div>\n",
       "<style scoped>\n",
       "    .dataframe tbody tr th:only-of-type {\n",
       "        vertical-align: middle;\n",
       "    }\n",
       "\n",
       "    .dataframe tbody tr th {\n",
       "        vertical-align: top;\n",
       "    }\n",
       "\n",
       "    .dataframe thead th {\n",
       "        text-align: right;\n",
       "    }\n",
       "</style>\n",
       "<table border=\"1\" class=\"dataframe\">\n",
       "  <thead>\n",
       "    <tr style=\"text-align: right;\">\n",
       "      <th></th>\n",
       "      <th>imdb_id</th>\n",
       "      <th>budget</th>\n",
       "      <th>revenue</th>\n",
       "      <th>original_title</th>\n",
       "      <th>cast</th>\n",
       "      <th>director</th>\n",
       "      <th>tagline</th>\n",
       "      <th>overview</th>\n",
       "      <th>runtime</th>\n",
       "      <th>genres</th>\n",
       "      <th>production_companies</th>\n",
       "      <th>release_date</th>\n",
       "      <th>vote_average</th>\n",
       "      <th>release_year</th>\n",
       "    </tr>\n",
       "  </thead>\n",
       "  <tbody>\n",
       "    <tr>\n",
       "      <th>1011</th>\n",
       "      <td>tt1440129</td>\n",
       "      <td>209000000</td>\n",
       "      <td>303025485</td>\n",
       "      <td>Battleship</td>\n",
       "      <td>Taylor Kitsch|Alexander SkarsgÃ¥rd|Rihanna|Bro...</td>\n",
       "      <td>Peter Berg</td>\n",
       "      <td>The Battle for Earth Begins at Sea</td>\n",
       "      <td>When mankind beams a radio signal into space, ...</td>\n",
       "      <td>131</td>\n",
       "      <td>Thriller|Action|Adventure|Science Fiction</td>\n",
       "      <td>Universal Pictures|Hasbro|Bluegrass Films|Film 44</td>\n",
       "      <td>4/11/2012</td>\n",
       "      <td>5.5</td>\n",
       "      <td>2012</td>\n",
       "    </tr>\n",
       "    <tr>\n",
       "      <th>1656</th>\n",
       "      <td>tt0329691</td>\n",
       "      <td>40000000</td>\n",
       "      <td>46546197</td>\n",
       "      <td>Torque</td>\n",
       "      <td>Martin Henderson|Ice Cube|Monet Mazur|Adam Sco...</td>\n",
       "      <td>Joseph Kahn</td>\n",
       "      <td>Circuit of Fire</td>\n",
       "      <td>Biker Cary Ford is framed by an old rival and ...</td>\n",
       "      <td>84</td>\n",
       "      <td>Action</td>\n",
       "      <td>Village Roadshow Pictures|Original Film|Warner...</td>\n",
       "      <td>1/16/2004</td>\n",
       "      <td>4.8</td>\n",
       "      <td>2004</td>\n",
       "    </tr>\n",
       "    <tr>\n",
       "      <th>132</th>\n",
       "      <td>tt1877832</td>\n",
       "      <td>250000000</td>\n",
       "      <td>746000000</td>\n",
       "      <td>X-Men: Days of Future Past</td>\n",
       "      <td>Hugh Jackman|James McAvoy|Patrick Stewart|Mich...</td>\n",
       "      <td>Bryan Singer</td>\n",
       "      <td>To save the future, they must alter the past</td>\n",
       "      <td>The ultimate X-Men ensemble fights a war for t...</td>\n",
       "      <td>131</td>\n",
       "      <td>Action|Adventure|Fantasy|Science Fiction</td>\n",
       "      <td>Twentieth Century Fox Film Corporation|Donners...</td>\n",
       "      <td>5/15/2014</td>\n",
       "      <td>7.6</td>\n",
       "      <td>2014</td>\n",
       "    </tr>\n",
       "    <tr>\n",
       "      <th>416</th>\n",
       "      <td>tt1053424</td>\n",
       "      <td>32000000</td>\n",
       "      <td>18409891</td>\n",
       "      <td>Repo Men</td>\n",
       "      <td>Jude Law|Forest Whitaker|Alice Braga|Liev Schr...</td>\n",
       "      <td>Miguel Sapochnik</td>\n",
       "      <td>For a price, any organ in your body can be rep...</td>\n",
       "      <td>In the future, medical technology has advanced...</td>\n",
       "      <td>111</td>\n",
       "      <td>Action|Science Fiction|Thriller|Crime</td>\n",
       "      <td>Universal Pictures|Stuber Productions|Dentsu|R...</td>\n",
       "      <td>3/18/2010</td>\n",
       "      <td>6.1</td>\n",
       "      <td>2010</td>\n",
       "    </tr>\n",
       "    <tr>\n",
       "      <th>994</th>\n",
       "      <td>tt1764651</td>\n",
       "      <td>100000000</td>\n",
       "      <td>312573423</td>\n",
       "      <td>The Expendables 2</td>\n",
       "      <td>Sylvester Stallone|Jason Statham|Dolph Lundgre...</td>\n",
       "      <td>Simon West</td>\n",
       "      <td>Back for War.</td>\n",
       "      <td>Mr. Church reunites the Expendables for what s...</td>\n",
       "      <td>103</td>\n",
       "      <td>Action|Adventure|Thriller</td>\n",
       "      <td>Nu Image Films|Millennium Films</td>\n",
       "      <td>8/8/2012</td>\n",
       "      <td>6.0</td>\n",
       "      <td>2012</td>\n",
       "    </tr>\n",
       "  </tbody>\n",
       "</table>\n",
       "</div>"
      ],
      "text/plain": [
       "        imdb_id     budget    revenue              original_title  \\\n",
       "1011  tt1440129  209000000  303025485                  Battleship   \n",
       "1656  tt0329691   40000000   46546197                      Torque   \n",
       "132   tt1877832  250000000  746000000  X-Men: Days of Future Past   \n",
       "416   tt1053424   32000000   18409891                    Repo Men   \n",
       "994   tt1764651  100000000  312573423           The Expendables 2   \n",
       "\n",
       "                                                   cast          director  \\\n",
       "1011  Taylor Kitsch|Alexander SkarsgÃ¥rd|Rihanna|Bro...        Peter Berg   \n",
       "1656  Martin Henderson|Ice Cube|Monet Mazur|Adam Sco...       Joseph Kahn   \n",
       "132   Hugh Jackman|James McAvoy|Patrick Stewart|Mich...      Bryan Singer   \n",
       "416   Jude Law|Forest Whitaker|Alice Braga|Liev Schr...  Miguel Sapochnik   \n",
       "994   Sylvester Stallone|Jason Statham|Dolph Lundgre...        Simon West   \n",
       "\n",
       "                                                tagline  \\\n",
       "1011                 The Battle for Earth Begins at Sea   \n",
       "1656                                    Circuit of Fire   \n",
       "132        To save the future, they must alter the past   \n",
       "416   For a price, any organ in your body can be rep...   \n",
       "994                                       Back for War.   \n",
       "\n",
       "                                               overview  runtime  \\\n",
       "1011  When mankind beams a radio signal into space, ...      131   \n",
       "1656  Biker Cary Ford is framed by an old rival and ...       84   \n",
       "132   The ultimate X-Men ensemble fights a war for t...      131   \n",
       "416   In the future, medical technology has advanced...      111   \n",
       "994   Mr. Church reunites the Expendables for what s...      103   \n",
       "\n",
       "                                         genres  \\\n",
       "1011  Thriller|Action|Adventure|Science Fiction   \n",
       "1656                                     Action   \n",
       "132    Action|Adventure|Fantasy|Science Fiction   \n",
       "416       Action|Science Fiction|Thriller|Crime   \n",
       "994                   Action|Adventure|Thriller   \n",
       "\n",
       "                                   production_companies release_date  \\\n",
       "1011  Universal Pictures|Hasbro|Bluegrass Films|Film 44    4/11/2012   \n",
       "1656  Village Roadshow Pictures|Original Film|Warner...    1/16/2004   \n",
       "132   Twentieth Century Fox Film Corporation|Donners...    5/15/2014   \n",
       "416   Universal Pictures|Stuber Productions|Dentsu|R...    3/18/2010   \n",
       "994                     Nu Image Films|Millennium Films     8/8/2012   \n",
       "\n",
       "      vote_average  release_year  \n",
       "1011           5.5          2012  \n",
       "1656           4.8          2004  \n",
       "132            7.6          2014  \n",
       "416            6.1          2010  \n",
       "994            6.0          2012  "
      ]
     },
     "execution_count": 2,
     "metadata": {},
     "output_type": "execute_result"
    }
   ],
   "source": [
    "data = pd.read_csv('movie_bd_v5.csv')\n",
    "data.sample(5)"
   ]
  },
  {
   "cell_type": "code",
   "execution_count": 3,
   "metadata": {
    "colab": {},
    "colab_type": "code",
    "id": "CoYUnagMVp-C"
   },
   "outputs": [
    {
     "data": {
      "text/html": [
       "<div>\n",
       "<style scoped>\n",
       "    .dataframe tbody tr th:only-of-type {\n",
       "        vertical-align: middle;\n",
       "    }\n",
       "\n",
       "    .dataframe tbody tr th {\n",
       "        vertical-align: top;\n",
       "    }\n",
       "\n",
       "    .dataframe thead th {\n",
       "        text-align: right;\n",
       "    }\n",
       "</style>\n",
       "<table border=\"1\" class=\"dataframe\">\n",
       "  <thead>\n",
       "    <tr style=\"text-align: right;\">\n",
       "      <th></th>\n",
       "      <th>budget</th>\n",
       "      <th>revenue</th>\n",
       "      <th>runtime</th>\n",
       "      <th>vote_average</th>\n",
       "      <th>release_year</th>\n",
       "    </tr>\n",
       "  </thead>\n",
       "  <tbody>\n",
       "    <tr>\n",
       "      <th>count</th>\n",
       "      <td>1.889000e+03</td>\n",
       "      <td>1.889000e+03</td>\n",
       "      <td>1889.000000</td>\n",
       "      <td>1889.000000</td>\n",
       "      <td>1889.000000</td>\n",
       "    </tr>\n",
       "    <tr>\n",
       "      <th>mean</th>\n",
       "      <td>5.431083e+07</td>\n",
       "      <td>1.553653e+08</td>\n",
       "      <td>109.658549</td>\n",
       "      <td>6.140762</td>\n",
       "      <td>2007.860773</td>\n",
       "    </tr>\n",
       "    <tr>\n",
       "      <th>std</th>\n",
       "      <td>4.858721e+07</td>\n",
       "      <td>2.146698e+08</td>\n",
       "      <td>18.017041</td>\n",
       "      <td>0.764763</td>\n",
       "      <td>4.468841</td>\n",
       "    </tr>\n",
       "    <tr>\n",
       "      <th>min</th>\n",
       "      <td>5.000000e+06</td>\n",
       "      <td>2.033165e+06</td>\n",
       "      <td>63.000000</td>\n",
       "      <td>3.300000</td>\n",
       "      <td>2000.000000</td>\n",
       "    </tr>\n",
       "    <tr>\n",
       "      <th>25%</th>\n",
       "      <td>2.000000e+07</td>\n",
       "      <td>3.456058e+07</td>\n",
       "      <td>97.000000</td>\n",
       "      <td>5.600000</td>\n",
       "      <td>2004.000000</td>\n",
       "    </tr>\n",
       "    <tr>\n",
       "      <th>50%</th>\n",
       "      <td>3.800000e+07</td>\n",
       "      <td>8.361541e+07</td>\n",
       "      <td>107.000000</td>\n",
       "      <td>6.100000</td>\n",
       "      <td>2008.000000</td>\n",
       "    </tr>\n",
       "    <tr>\n",
       "      <th>75%</th>\n",
       "      <td>7.200000e+07</td>\n",
       "      <td>1.782626e+08</td>\n",
       "      <td>120.000000</td>\n",
       "      <td>6.600000</td>\n",
       "      <td>2012.000000</td>\n",
       "    </tr>\n",
       "    <tr>\n",
       "      <th>max</th>\n",
       "      <td>3.800000e+08</td>\n",
       "      <td>2.781506e+09</td>\n",
       "      <td>214.000000</td>\n",
       "      <td>8.100000</td>\n",
       "      <td>2015.000000</td>\n",
       "    </tr>\n",
       "  </tbody>\n",
       "</table>\n",
       "</div>"
      ],
      "text/plain": [
       "             budget       revenue      runtime  vote_average  release_year\n",
       "count  1.889000e+03  1.889000e+03  1889.000000   1889.000000   1889.000000\n",
       "mean   5.431083e+07  1.553653e+08   109.658549      6.140762   2007.860773\n",
       "std    4.858721e+07  2.146698e+08    18.017041      0.764763      4.468841\n",
       "min    5.000000e+06  2.033165e+06    63.000000      3.300000   2000.000000\n",
       "25%    2.000000e+07  3.456058e+07    97.000000      5.600000   2004.000000\n",
       "50%    3.800000e+07  8.361541e+07   107.000000      6.100000   2008.000000\n",
       "75%    7.200000e+07  1.782626e+08   120.000000      6.600000   2012.000000\n",
       "max    3.800000e+08  2.781506e+09   214.000000      8.100000   2015.000000"
      ]
     },
     "execution_count": 3,
     "metadata": {},
     "output_type": "execute_result"
    }
   ],
   "source": [
    "data.describe()"
   ]
  },
  {
   "cell_type": "markdown",
   "metadata": {
    "colab_type": "text",
    "id": "DTIt7ezGVp-G"
   },
   "source": [
    "# Предобработка"
   ]
  },
  {
   "cell_type": "code",
   "execution_count": 4,
   "metadata": {
    "colab": {},
    "colab_type": "code",
    "id": "jNb40DwKVp-H"
   },
   "outputs": [],
   "source": [
    "answers = {} # создадим словарь для ответов\n",
    "\n",
    "# тут другие ваши предобработки колонок например:\n",
    "\n",
    "#the time given in the dataset is in string format.\n",
    "#So we need to change this in datetime format\n",
    "# ...\n",
    "data_work = data.copy()\n",
    "profit = data['revenue'] - data_work['budget']\n",
    "data_work.insert(3, 'profit', profit)\n",
    "data_work['release_date'] = pd.to_datetime(data_work['release_date'], format = '%m/%d/%Y')\n",
    "\n",
    "   \n",
    "#Функция для определения перечня встречающихся переменных\n",
    "def compound_value (data,column):\n",
    "    value = list(data[column])\n",
    "    result = []\n",
    "    for i in range(len(value)):\n",
    "        if '|' in value[i]:\n",
    "            name = value[i].split('|')\n",
    "            result = result + name\n",
    "        else: result.append(value[i])\n",
    "    return result\n",
    "\n",
    "#Функция для определения кол-ва переменных\n",
    "def quantity_value (values):\n",
    "    result = Counter()\n",
    "    for word in values:\n",
    "        result[word] += 1\n",
    "    result = list(result.items())\n",
    "    result.sort(key = lambda row:row[1], reverse = True)\n",
    "    return result\n",
    "\n",
    "list_month = ['January', 'February', \n",
    "             'March', 'April', 'May', \n",
    "             'June', 'July', 'August', \n",
    "             'September', 'October', 'November' , \n",
    "             'December']\n",
    "list_season = ['Winter', 'Winter', \n",
    "             'Spring', 'Spring', 'Spring', \n",
    "             'Summer', 'Summer', 'Summer', \n",
    "             'Autumn', 'Autumn', 'Autumn' , \n",
    "             'Winter']"
   ]
  },
  {
   "cell_type": "code",
   "execution_count": 5,
   "metadata": {},
   "outputs": [],
   "source": [
    "#добавление столбца 'season'\n",
    "release_date_data = data_work['release_date']\n",
    "season = []\n",
    "for i in range(len(release_date_data)):\n",
    "    season.append(list_season[release_date_data[i].month - 1])\n",
    "data_work.insert(13, 'season', season)"
   ]
  },
  {
   "cell_type": "code",
   "execution_count": 6,
   "metadata": {},
   "outputs": [],
   "source": [
    "# Добавление столбца с количеством слов в описании\n",
    "tagline_data = data['tagline']\n",
    "quantity_word_data = []\n",
    "for i in range(len(tagline_data)):\n",
    "    quantity_word = 0\n",
    "    for word in re.split(r'\\s+', tagline_data[i]):\n",
    "        quantity_word += 1\n",
    "    quantity_word_data.append(quantity_word)\n",
    "data_work.insert(8, 'quantity_word', quantity_word_data)"
   ]
  },
  {
   "cell_type": "code",
   "execution_count": 7,
   "metadata": {},
   "outputs": [],
   "source": [
    "#функция определения уникальных значений\n",
    "def unique_value (column):\n",
    "    result = []\n",
    "    for name in column:\n",
    "        if name not in result:\n",
    "            result.append(name)\n",
    "    return result"
   ]
  },
  {
   "cell_type": "code",
   "execution_count": 8,
   "metadata": {},
   "outputs": [
    {
     "data": {
      "text/html": [
       "<div>\n",
       "<style scoped>\n",
       "    .dataframe tbody tr th:only-of-type {\n",
       "        vertical-align: middle;\n",
       "    }\n",
       "\n",
       "    .dataframe tbody tr th {\n",
       "        vertical-align: top;\n",
       "    }\n",
       "\n",
       "    .dataframe thead th {\n",
       "        text-align: right;\n",
       "    }\n",
       "</style>\n",
       "<table border=\"1\" class=\"dataframe\">\n",
       "  <thead>\n",
       "    <tr style=\"text-align: right;\">\n",
       "      <th></th>\n",
       "      <th>imdb_id</th>\n",
       "      <th>budget</th>\n",
       "      <th>revenue</th>\n",
       "      <th>profit</th>\n",
       "      <th>original_title</th>\n",
       "      <th>cast</th>\n",
       "      <th>director</th>\n",
       "      <th>tagline</th>\n",
       "      <th>quantity_word</th>\n",
       "      <th>overview</th>\n",
       "      <th>runtime</th>\n",
       "      <th>genres</th>\n",
       "      <th>production_companies</th>\n",
       "      <th>release_date</th>\n",
       "      <th>season</th>\n",
       "      <th>vote_average</th>\n",
       "      <th>release_year</th>\n",
       "    </tr>\n",
       "  </thead>\n",
       "  <tbody>\n",
       "    <tr>\n",
       "      <th>0</th>\n",
       "      <td>tt0369610</td>\n",
       "      <td>150000000</td>\n",
       "      <td>1513528810</td>\n",
       "      <td>1363528810</td>\n",
       "      <td>Jurassic World</td>\n",
       "      <td>Chris Pratt|Bryce Dallas Howard|Irrfan Khan|Vi...</td>\n",
       "      <td>Colin Trevorrow</td>\n",
       "      <td>The park is open.</td>\n",
       "      <td>4</td>\n",
       "      <td>Twenty-two years after the events of Jurassic ...</td>\n",
       "      <td>124</td>\n",
       "      <td>Action|Adventure|Science Fiction|Thriller</td>\n",
       "      <td>Universal Studios|Amblin Entertainment|Legenda...</td>\n",
       "      <td>2015-06-09</td>\n",
       "      <td>Summer</td>\n",
       "      <td>6.5</td>\n",
       "      <td>2015</td>\n",
       "    </tr>\n",
       "    <tr>\n",
       "      <th>1</th>\n",
       "      <td>tt1392190</td>\n",
       "      <td>150000000</td>\n",
       "      <td>378436354</td>\n",
       "      <td>228436354</td>\n",
       "      <td>Mad Max: Fury Road</td>\n",
       "      <td>Tom Hardy|Charlize Theron|Hugh Keays-Byrne|Nic...</td>\n",
       "      <td>George Miller</td>\n",
       "      <td>What a Lovely Day.</td>\n",
       "      <td>4</td>\n",
       "      <td>An apocalyptic story set in the furthest reach...</td>\n",
       "      <td>120</td>\n",
       "      <td>Action|Adventure|Science Fiction|Thriller</td>\n",
       "      <td>Village Roadshow Pictures|Kennedy Miller Produ...</td>\n",
       "      <td>2015-05-13</td>\n",
       "      <td>Spring</td>\n",
       "      <td>7.1</td>\n",
       "      <td>2015</td>\n",
       "    </tr>\n",
       "  </tbody>\n",
       "</table>\n",
       "</div>"
      ],
      "text/plain": [
       "     imdb_id     budget     revenue      profit      original_title  \\\n",
       "0  tt0369610  150000000  1513528810  1363528810      Jurassic World   \n",
       "1  tt1392190  150000000   378436354   228436354  Mad Max: Fury Road   \n",
       "\n",
       "                                                cast         director  \\\n",
       "0  Chris Pratt|Bryce Dallas Howard|Irrfan Khan|Vi...  Colin Trevorrow   \n",
       "1  Tom Hardy|Charlize Theron|Hugh Keays-Byrne|Nic...    George Miller   \n",
       "\n",
       "              tagline  quantity_word  \\\n",
       "0   The park is open.              4   \n",
       "1  What a Lovely Day.              4   \n",
       "\n",
       "                                            overview  runtime  \\\n",
       "0  Twenty-two years after the events of Jurassic ...      124   \n",
       "1  An apocalyptic story set in the furthest reach...      120   \n",
       "\n",
       "                                      genres  \\\n",
       "0  Action|Adventure|Science Fiction|Thriller   \n",
       "1  Action|Adventure|Science Fiction|Thriller   \n",
       "\n",
       "                                production_companies release_date  season  \\\n",
       "0  Universal Studios|Amblin Entertainment|Legenda...   2015-06-09  Summer   \n",
       "1  Village Roadshow Pictures|Kennedy Miller Produ...   2015-05-13  Spring   \n",
       "\n",
       "   vote_average  release_year  \n",
       "0           6.5          2015  \n",
       "1           7.1          2015  "
      ]
     },
     "execution_count": 8,
     "metadata": {},
     "output_type": "execute_result"
    }
   ],
   "source": [
    "data_work.head(2)"
   ]
  },
  {
   "cell_type": "code",
   "execution_count": 9,
   "metadata": {},
   "outputs": [
    {
     "name": "stdout",
     "output_type": "stream",
     "text": [
      "<class 'pandas.core.frame.DataFrame'>\n",
      "RangeIndex: 1889 entries, 0 to 1888\n",
      "Data columns (total 17 columns):\n",
      " #   Column                Non-Null Count  Dtype         \n",
      "---  ------                --------------  -----         \n",
      " 0   imdb_id               1889 non-null   object        \n",
      " 1   budget                1889 non-null   int64         \n",
      " 2   revenue               1889 non-null   int64         \n",
      " 3   profit                1889 non-null   int64         \n",
      " 4   original_title        1889 non-null   object        \n",
      " 5   cast                  1889 non-null   object        \n",
      " 6   director              1889 non-null   object        \n",
      " 7   tagline               1889 non-null   object        \n",
      " 8   quantity_word         1889 non-null   int64         \n",
      " 9   overview              1889 non-null   object        \n",
      " 10  runtime               1889 non-null   int64         \n",
      " 11  genres                1889 non-null   object        \n",
      " 12  production_companies  1889 non-null   object        \n",
      " 13  release_date          1889 non-null   datetime64[ns]\n",
      " 14  season                1889 non-null   object        \n",
      " 15  vote_average          1889 non-null   float64       \n",
      " 16  release_year          1889 non-null   int64         \n",
      "dtypes: datetime64[ns](1), float64(1), int64(6), object(9)\n",
      "memory usage: 251.0+ KB\n"
     ]
    }
   ],
   "source": [
    "data_work.info()"
   ]
  },
  {
   "cell_type": "code",
   "execution_count": 10,
   "metadata": {},
   "outputs": [
    {
     "data": {
      "text/html": [
       "<div>\n",
       "<style scoped>\n",
       "    .dataframe tbody tr th:only-of-type {\n",
       "        vertical-align: middle;\n",
       "    }\n",
       "\n",
       "    .dataframe tbody tr th {\n",
       "        vertical-align: top;\n",
       "    }\n",
       "\n",
       "    .dataframe thead th {\n",
       "        text-align: right;\n",
       "    }\n",
       "</style>\n",
       "<table border=\"1\" class=\"dataframe\">\n",
       "  <thead>\n",
       "    <tr style=\"text-align: right;\">\n",
       "      <th></th>\n",
       "      <th>budget</th>\n",
       "      <th>revenue</th>\n",
       "      <th>profit</th>\n",
       "      <th>quantity_word</th>\n",
       "      <th>runtime</th>\n",
       "      <th>vote_average</th>\n",
       "      <th>release_year</th>\n",
       "    </tr>\n",
       "  </thead>\n",
       "  <tbody>\n",
       "    <tr>\n",
       "      <th>count</th>\n",
       "      <td>1.889000e+03</td>\n",
       "      <td>1.889000e+03</td>\n",
       "      <td>1.889000e+03</td>\n",
       "      <td>1889.000000</td>\n",
       "      <td>1889.000000</td>\n",
       "      <td>1889.000000</td>\n",
       "      <td>1889.000000</td>\n",
       "    </tr>\n",
       "    <tr>\n",
       "      <th>mean</th>\n",
       "      <td>5.431083e+07</td>\n",
       "      <td>1.553653e+08</td>\n",
       "      <td>1.010545e+08</td>\n",
       "      <td>7.044468</td>\n",
       "      <td>109.658549</td>\n",
       "      <td>6.140762</td>\n",
       "      <td>2007.860773</td>\n",
       "    </tr>\n",
       "    <tr>\n",
       "      <th>std</th>\n",
       "      <td>4.858721e+07</td>\n",
       "      <td>2.146698e+08</td>\n",
       "      <td>1.830733e+08</td>\n",
       "      <td>3.662992</td>\n",
       "      <td>18.017041</td>\n",
       "      <td>0.764763</td>\n",
       "      <td>4.468841</td>\n",
       "    </tr>\n",
       "    <tr>\n",
       "      <th>min</th>\n",
       "      <td>5.000000e+06</td>\n",
       "      <td>2.033165e+06</td>\n",
       "      <td>-1.657101e+08</td>\n",
       "      <td>1.000000</td>\n",
       "      <td>63.000000</td>\n",
       "      <td>3.300000</td>\n",
       "      <td>2000.000000</td>\n",
       "    </tr>\n",
       "    <tr>\n",
       "      <th>25%</th>\n",
       "      <td>2.000000e+07</td>\n",
       "      <td>3.456058e+07</td>\n",
       "      <td>5.000000e+06</td>\n",
       "      <td>4.000000</td>\n",
       "      <td>97.000000</td>\n",
       "      <td>5.600000</td>\n",
       "      <td>2004.000000</td>\n",
       "    </tr>\n",
       "    <tr>\n",
       "      <th>50%</th>\n",
       "      <td>3.800000e+07</td>\n",
       "      <td>8.361541e+07</td>\n",
       "      <td>4.400041e+07</td>\n",
       "      <td>6.000000</td>\n",
       "      <td>107.000000</td>\n",
       "      <td>6.100000</td>\n",
       "      <td>2008.000000</td>\n",
       "    </tr>\n",
       "    <tr>\n",
       "      <th>75%</th>\n",
       "      <td>7.200000e+07</td>\n",
       "      <td>1.782626e+08</td>\n",
       "      <td>1.201842e+08</td>\n",
       "      <td>9.000000</td>\n",
       "      <td>120.000000</td>\n",
       "      <td>6.600000</td>\n",
       "      <td>2012.000000</td>\n",
       "    </tr>\n",
       "    <tr>\n",
       "      <th>max</th>\n",
       "      <td>3.800000e+08</td>\n",
       "      <td>2.781506e+09</td>\n",
       "      <td>2.544506e+09</td>\n",
       "      <td>49.000000</td>\n",
       "      <td>214.000000</td>\n",
       "      <td>8.100000</td>\n",
       "      <td>2015.000000</td>\n",
       "    </tr>\n",
       "  </tbody>\n",
       "</table>\n",
       "</div>"
      ],
      "text/plain": [
       "             budget       revenue        profit  quantity_word      runtime  \\\n",
       "count  1.889000e+03  1.889000e+03  1.889000e+03    1889.000000  1889.000000   \n",
       "mean   5.431083e+07  1.553653e+08  1.010545e+08       7.044468   109.658549   \n",
       "std    4.858721e+07  2.146698e+08  1.830733e+08       3.662992    18.017041   \n",
       "min    5.000000e+06  2.033165e+06 -1.657101e+08       1.000000    63.000000   \n",
       "25%    2.000000e+07  3.456058e+07  5.000000e+06       4.000000    97.000000   \n",
       "50%    3.800000e+07  8.361541e+07  4.400041e+07       6.000000   107.000000   \n",
       "75%    7.200000e+07  1.782626e+08  1.201842e+08       9.000000   120.000000   \n",
       "max    3.800000e+08  2.781506e+09  2.544506e+09      49.000000   214.000000   \n",
       "\n",
       "       vote_average  release_year  \n",
       "count   1889.000000   1889.000000  \n",
       "mean       6.140762   2007.860773  \n",
       "std        0.764763      4.468841  \n",
       "min        3.300000   2000.000000  \n",
       "25%        5.600000   2004.000000  \n",
       "50%        6.100000   2008.000000  \n",
       "75%        6.600000   2012.000000  \n",
       "max        8.100000   2015.000000  "
      ]
     },
     "execution_count": 10,
     "metadata": {},
     "output_type": "execute_result"
    }
   ],
   "source": [
    "data_work.describe()"
   ]
  },
  {
   "cell_type": "markdown",
   "metadata": {
    "colab_type": "text",
    "id": "YxZaH-nPVp-L"
   },
   "source": [
    "# 1. У какого фильма из списка самый большой бюджет?"
   ]
  },
  {
   "cell_type": "markdown",
   "metadata": {
    "colab_type": "text",
    "id": "Nd-G5gX6Vp-M"
   },
   "source": [
    "Использовать варианты ответов в коде решения запрещено.    \n",
    "Вы думаете и в жизни у вас будут варианты ответов?)"
   ]
  },
  {
   "cell_type": "code",
   "execution_count": 11,
   "metadata": {
    "colab": {},
    "colab_type": "code",
    "id": "uVnXAY5RVp-O"
   },
   "outputs": [],
   "source": [
    "# в словарь вставляем номер вопроса и ваш ответ на него\n",
    "# Пример: \n",
    "answers['1'] = '2. Spider-Man 3 (tt0413300)'\n",
    "# запишите свой вариант ответа\n",
    "answers['1'] = '...'\n",
    "# если ответили верно, можете добавить комментарий со значком \"+\""
   ]
  },
  {
   "cell_type": "code",
   "execution_count": 12,
   "metadata": {
    "colab": {},
    "colab_type": "code",
    "id": "dZwb3m28Vp-S"
   },
   "outputs": [
    {
     "name": "stdout",
     "output_type": "stream",
     "text": [
      "Pirates of the Caribbean: On Stranger Tides(tt1298650)\n"
     ]
    }
   ],
   "source": [
    "# тут пишем ваш код для решения данного вопроса:\n",
    "index = data[data['budget'] == data['budget'].max()].index\n",
    "answers['1'] = data.loc[index[0], 'original_title'] + '(' + data.loc[index[0], 'imdb_id'] + ')'\n",
    "print(answers['1'])"
   ]
  },
  {
   "cell_type": "markdown",
   "metadata": {
    "colab_type": "text",
    "id": "K7L3nbRXVp-X"
   },
   "source": [
    "ВАРИАНТ 2"
   ]
  },
  {
   "cell_type": "code",
   "execution_count": 13,
   "metadata": {
    "colab": {},
    "colab_type": "code",
    "id": "OGaoQI7rVp-X"
   },
   "outputs": [],
   "source": [
    "# можно добавлять разные варианты решения"
   ]
  },
  {
   "cell_type": "markdown",
   "metadata": {
    "colab_type": "text",
    "id": "FNRbbI3vVp-c"
   },
   "source": [
    "# 2. Какой из фильмов самый длительный (в минутах)?"
   ]
  },
  {
   "cell_type": "code",
   "execution_count": 14,
   "metadata": {
    "colab": {},
    "colab_type": "code",
    "id": "vHAoEXNTVp-d"
   },
   "outputs": [],
   "source": [
    "# думаю логику работы с этим словарем вы уже поняли, \n",
    "# по этому не буду больше его дублировать\n",
    "answers['2'] = '...'"
   ]
  },
  {
   "cell_type": "code",
   "execution_count": 15,
   "metadata": {
    "colab": {},
    "colab_type": "code",
    "id": "ot-VX2XrVp-g"
   },
   "outputs": [
    {
     "name": "stdout",
     "output_type": "stream",
     "text": [
      "Gods and Generals(tt0279111)\n"
     ]
    }
   ],
   "source": [
    "index = data[data['runtime'] == data['runtime'].max()].index\n",
    "answers['2'] = data.loc[index[0], 'original_title'] + '(' + data.loc[index[0], 'imdb_id'] + ')'\n",
    "print(answers['2'])"
   ]
  },
  {
   "cell_type": "markdown",
   "metadata": {
    "colab_type": "text",
    "id": "bapLlpW8Vp-k"
   },
   "source": [
    "# 3. Какой из фильмов самый короткий (в минутах)?\n",
    "\n",
    "\n",
    "\n"
   ]
  },
  {
   "cell_type": "code",
   "execution_count": 16,
   "metadata": {
    "colab": {},
    "colab_type": "code",
    "id": "YBxaSHuAVp-l"
   },
   "outputs": [
    {
     "name": "stdout",
     "output_type": "stream",
     "text": [
      "Winnie the Pooh(tt1449283)\n"
     ]
    }
   ],
   "source": [
    "index = data[data['runtime'] == data['runtime'].min()].index\n",
    "answers['3'] = data.loc[index[0], 'original_title']  + '(' + data.loc[index[0], 'imdb_id'] + ')'\n",
    "print(answers['3'])"
   ]
  },
  {
   "cell_type": "markdown",
   "metadata": {
    "colab_type": "text",
    "id": "TfQbxbfNVp-p"
   },
   "source": [
    "# 4. Какова средняя длительность фильмов?\n"
   ]
  },
  {
   "cell_type": "code",
   "execution_count": 17,
   "metadata": {
    "colab": {},
    "colab_type": "code",
    "id": "5K6dKZYVVp-q"
   },
   "outputs": [
    {
     "name": "stdout",
     "output_type": "stream",
     "text": [
      "109.6585494970884\n"
     ]
    }
   ],
   "source": [
    "answers['4'] = data['runtime'].mean()\n",
    "print(answers['4'])"
   ]
  },
  {
   "cell_type": "markdown",
   "metadata": {
    "colab_type": "text",
    "id": "r5TvbnT_Vp-u"
   },
   "source": [
    "# 5. Каково медианное значение длительности фильмов? "
   ]
  },
  {
   "cell_type": "code",
   "execution_count": 18,
   "metadata": {
    "colab": {},
    "colab_type": "code",
    "id": "iBROplKnVp-v"
   },
   "outputs": [
    {
     "name": "stdout",
     "output_type": "stream",
     "text": [
      "107.0\n"
     ]
    }
   ],
   "source": [
    "answers['5'] = data['runtime'].median()\n",
    "print(answers['5'])"
   ]
  },
  {
   "cell_type": "markdown",
   "metadata": {
    "colab_type": "text",
    "id": "39P-deDSVp-y"
   },
   "source": [
    "# 6. Какой самый прибыльный фильм?\n",
    "#### Внимание! Здесь и далее под «прибылью» или «убытками» понимается разность между сборами и бюджетом фильма. (прибыль = сборы - бюджет) в нашем датасете это будет (profit = revenue - budget) "
   ]
  },
  {
   "cell_type": "code",
   "execution_count": 19,
   "metadata": {
    "colab": {},
    "colab_type": "code",
    "id": "UYZh4T9WVp-y"
   },
   "outputs": [
    {
     "name": "stdout",
     "output_type": "stream",
     "text": [
      "Avatar(tt0499549)\n"
     ]
    }
   ],
   "source": [
    "# лучше код получения столбца profit вынести в Предобработку что в начале\n",
    "index = data_work[data_work['profit'] == data_work['profit'].max()].index\n",
    "answers['6'] = data_work.loc[index[0], 'original_title'] + '(' + data.loc[index[0], 'imdb_id'] + ')'\n",
    "print(answers['6'])"
   ]
  },
  {
   "cell_type": "markdown",
   "metadata": {
    "colab_type": "text",
    "id": "M99JmIX4Vp-2"
   },
   "source": [
    "# 7. Какой фильм самый убыточный? "
   ]
  },
  {
   "cell_type": "code",
   "execution_count": 20,
   "metadata": {
    "colab": {},
    "colab_type": "code",
    "id": "w-D2m4XPVp-3"
   },
   "outputs": [
    {
     "name": "stdout",
     "output_type": "stream",
     "text": [
      "The Lone Ranger(tt1210819)\n"
     ]
    }
   ],
   "source": [
    "index = data_work[data_work['profit'] == data_work['profit'].min()].index\n",
    "answers['7'] = data_work.loc[index[0], 'original_title']  + '(' + data.loc[index[0], 'imdb_id'] + ')'\n",
    "print(answers['7'])"
   ]
  },
  {
   "cell_type": "markdown",
   "metadata": {
    "colab_type": "text",
    "id": "wEOM5ERVVp-6"
   },
   "source": [
    "# 8. У скольких фильмов из датасета объем сборов оказался выше бюджета?"
   ]
  },
  {
   "cell_type": "code",
   "execution_count": 21,
   "metadata": {
    "colab": {},
    "colab_type": "code",
    "id": "y00_7HD6Vp-7"
   },
   "outputs": [
    {
     "name": "stdout",
     "output_type": "stream",
     "text": [
      "1478\n"
     ]
    }
   ],
   "source": [
    "answers['8'] = data_work[data_work['profit'] > 0]['original_title'].count()\n",
    "print(answers['8'])"
   ]
  },
  {
   "cell_type": "markdown",
   "metadata": {
    "colab_type": "text",
    "id": "xhpspA9KVp_A"
   },
   "source": [
    "# 9. Какой фильм оказался самым кассовым в 2008 году?"
   ]
  },
  {
   "cell_type": "code",
   "execution_count": 22,
   "metadata": {
    "colab": {},
    "colab_type": "code",
    "id": "MoUyQr9RVp_B"
   },
   "outputs": [
    {
     "name": "stdout",
     "output_type": "stream",
     "text": [
      "The Dark Knight(tt0468569)\n"
     ]
    }
   ],
   "source": [
    "film_2008 = data_work[data_work['release_year'] == 2008]\n",
    "index = film_2008[film_2008['profit'] == film_2008['profit'].max()].index\n",
    "answers['9'] = film_2008.loc[index[0], 'original_title']  + '(' + data.loc[index[0], 'imdb_id'] + ')'\n",
    "print(answers['9'])"
   ]
  },
  {
   "cell_type": "markdown",
   "metadata": {
    "colab_type": "text",
    "id": "Zi4hDKidVp_F"
   },
   "source": [
    "# 10. Самый убыточный фильм за период с 2012 по 2014 г. (включительно)?\n"
   ]
  },
  {
   "cell_type": "code",
   "execution_count": 23,
   "metadata": {
    "colab": {},
    "colab_type": "code",
    "id": "XqyRmufJVp_F"
   },
   "outputs": [
    {
     "name": "stdout",
     "output_type": "stream",
     "text": [
      "The Lone Ranger(tt1210819)\n"
     ]
    }
   ],
   "source": [
    "film_2012_2014 = data_work[(data_work['release_year'] >= 2012) & (data_work['release_year'] <= 2014)]\n",
    "index = film_2012_2014[film_2012_2014['profit'] == film_2012_2014['profit'].min()].index\n",
    "answers['10'] = film_2012_2014.loc[index[0], 'original_title']  + '(' + data.loc[index[0], 'imdb_id'] + ')'\n",
    "print(answers['10'])"
   ]
  },
  {
   "cell_type": "markdown",
   "metadata": {
    "colab_type": "text",
    "id": "EA7Sa9dkVp_I"
   },
   "source": [
    "# 11. Какого жанра фильмов больше всего?"
   ]
  },
  {
   "cell_type": "code",
   "execution_count": 24,
   "metadata": {
    "colab": {},
    "colab_type": "code",
    "id": "zsJAwJ8QVp_J"
   },
   "outputs": [
    {
     "name": "stdout",
     "output_type": "stream",
     "text": [
      "('Drama', 782)\n"
     ]
    }
   ],
   "source": [
    "# эту задачу тоже можно решать разными подходами, попробуй реализовать разные варианты\n",
    "# если будешь добавлять функцию - выноси ее в предобработку что в начале\n",
    "quantity_genres = quantity_value(compound_value(data_work, 'genres')) \n",
    "answers['11'] = quantity_genres[0]\n",
    "print(answers['11'])"
   ]
  },
  {
   "cell_type": "markdown",
   "metadata": {
    "colab_type": "text",
    "id": "Ax6g2C8SVp_M"
   },
   "source": [
    "ВАРИАНТ 2"
   ]
  },
  {
   "cell_type": "code",
   "execution_count": null,
   "metadata": {},
   "outputs": [],
   "source": []
  },
  {
   "cell_type": "markdown",
   "metadata": {
    "colab": {},
    "colab_type": "code",
    "id": "Tmt8MaK1Vp_R"
   },
   "source": [
    "# 12. Фильмы какого жанра чаще всего становятся прибыльными? "
   ]
  },
  {
   "cell_type": "code",
   "execution_count": 25,
   "metadata": {},
   "outputs": [
    {
     "name": "stdout",
     "output_type": "stream",
     "text": [
      "('Drama', 560)\n"
     ]
    }
   ],
   "source": [
    "film_profit = data_work[data_work['profit'] > 0]\n",
    "quantity_genres_profit = quantity_value(compound_value(film_profit, 'genres')) \n",
    "answers['12'] = quantity_genres_profit[0]\n",
    "print(answers['12'])"
   ]
  },
  {
   "cell_type": "markdown",
   "metadata": {
    "colab_type": "text",
    "id": "0F23bgsDVp_U"
   },
   "source": [
    "# 13. У какого режиссера самые большие суммарные кассовые сбооры?"
   ]
  },
  {
   "cell_type": "code",
   "execution_count": 26,
   "metadata": {
    "colab": {},
    "colab_type": "code",
    "id": "K6Z3J8ygVp_X"
   },
   "outputs": [
    {
     "name": "stdout",
     "output_type": "stream",
     "text": [
      "Peter Jackson\n"
     ]
    }
   ],
   "source": [
    "director_revenue = data_work.groupby('director')['revenue'].sum().sort_values(ascending = False)\n",
    "answers['13'] = director_revenue.index[0]\n",
    "print(answers['13'])"
   ]
  },
  {
   "cell_type": "markdown",
   "metadata": {
    "colab_type": "text",
    "id": "PsYC9FgRVp_a"
   },
   "source": [
    "# 14. Какой режисер снял больше всего фильмов в стиле Action?"
   ]
  },
  {
   "cell_type": "code",
   "execution_count": 27,
   "metadata": {
    "colab": {},
    "colab_type": "code",
    "id": "wd2M-wHeVp_b"
   },
   "outputs": [
    {
     "name": "stdout",
     "output_type": "stream",
     "text": [
      "Antoine Fuqua\n"
     ]
    }
   ],
   "source": [
    "director_film_action = data_work[data_work['genres'].str.match('Action')]['director'].value_counts()\n",
    "answers['14'] = director_film_action.index[0]\n",
    "print(answers['14'])"
   ]
  },
  {
   "cell_type": "markdown",
   "metadata": {
    "colab_type": "text",
    "id": "PQ0KciD7Vp_f"
   },
   "source": [
    "# 15. Фильмы с каким актером принесли самые высокие кассовые сборы в 2012 году? "
   ]
  },
  {
   "cell_type": "code",
   "execution_count": 28,
   "metadata": {
    "colab": {},
    "colab_type": "code",
    "id": "aga62oeKVp_g"
   },
   "outputs": [
    {
     "data": {
      "text/plain": [
       "['Robert Downey Jr.|Chris Evans|Mark Ruffalo|Chris Hemsworth|Scarlett Johansson']"
      ]
     },
     "metadata": {},
     "output_type": "display_data"
    }
   ],
   "source": [
    "film_2012 = data_work[data_work['release_year'] == 2012]\n",
    "index = film_2012[film_2012['revenue'] == film_2012['revenue'].max()]['cast'].index\n",
    "answers['15'] = list(film_2012.loc[index, 'cast'])\n",
    "display(answers['15'])"
   ]
  },
  {
   "cell_type": "markdown",
   "metadata": {
    "colab_type": "text",
    "id": "mWHyyL7QVp_j"
   },
   "source": [
    "# 16. Какой актер снялся в большем количестве высокобюджетных фильмов?"
   ]
  },
  {
   "cell_type": "code",
   "execution_count": 29,
   "metadata": {
    "colab": {},
    "colab_type": "code",
    "id": "qQtmHKTFVp_k"
   },
   "outputs": [
    {
     "name": "stdout",
     "output_type": "stream",
     "text": [
      "('Adam Sandler', 16)\n"
     ]
    }
   ],
   "source": [
    "film_high_budget = data_work[data_work['budget'] > data_work['budget'].quantile(0.75)]\n",
    "quantity_actor = quantity_value(compound_value(film_high_budget, 'cast')) \n",
    "answers['16'] = quantity_actor[0]\n",
    "print(answers['16'])"
   ]
  },
  {
   "cell_type": "markdown",
   "metadata": {
    "colab_type": "text",
    "id": "NIh6AaW5Vp_n"
   },
   "source": [
    "# 17. В фильмах какого жанра больше всего снимался Nicolas Cage? "
   ]
  },
  {
   "cell_type": "code",
   "execution_count": 30,
   "metadata": {
    "colab": {},
    "colab_type": "code",
    "id": "H74SJDIBVp_n"
   },
   "outputs": [
    {
     "name": "stdout",
     "output_type": "stream",
     "text": [
      "('Action', 17)\n"
     ]
    }
   ],
   "source": [
    "film_cage = data_work[data_work['cast'].str.contains('Nicolas Cage')]\n",
    "quantity_cage = quantity_value(compound_value(film_cage, 'genres')) \n",
    "answers['17'] = quantity_cage[0]\n",
    "print(answers['17'])"
   ]
  },
  {
   "cell_type": "markdown",
   "metadata": {
    "colab_type": "text",
    "id": "RqOmPRfWVp_q"
   },
   "source": [
    "# 18. Самый убыточный фильм от Paramount Pictures"
   ]
  },
  {
   "cell_type": "code",
   "execution_count": 31,
   "metadata": {
    "colab": {},
    "colab_type": "code",
    "id": "9E_B0Y96Vp_r"
   },
   "outputs": [
    {
     "name": "stdout",
     "output_type": "stream",
     "text": [
      "K-19: The Widowmaker(tt0267626)\n"
     ]
    }
   ],
   "source": [
    "film_paramount = data_work[data_work['production_companies'].str.contains('Paramount Pictures')]\n",
    "index = film_paramount[film_paramount['profit'] == film_paramount['profit'].min()]['original_title'].index\n",
    "answers['18'] = film_paramount.loc[index[0], 'original_title']  + '(' + data.loc[index[0], 'imdb_id'] + ')'\n",
    "print(answers['18'])"
   ]
  },
  {
   "cell_type": "markdown",
   "metadata": {
    "colab_type": "text",
    "id": "vS8Ur6ddVp_u"
   },
   "source": [
    "# 19. Какой год стал самым успешным по суммарным кассовым сборам?"
   ]
  },
  {
   "cell_type": "code",
   "execution_count": 32,
   "metadata": {
    "colab": {},
    "colab_type": "code",
    "id": "Dnbt4GdIVp_v"
   },
   "outputs": [
    {
     "name": "stdout",
     "output_type": "stream",
     "text": [
      "2015\n"
     ]
    }
   ],
   "source": [
    "year_sum_revenue = data_work.groupby('release_year')['revenue'].sum().sort_values(ascending = False)\n",
    "answers['19'] = year_sum_revenue.index[0]\n",
    "print(answers['19'])"
   ]
  },
  {
   "cell_type": "markdown",
   "metadata": {
    "colab_type": "text",
    "id": "JAzJh4QAVp_z"
   },
   "source": [
    "# 20. Какой самый прибыльный год для студии Warner Bros?"
   ]
  },
  {
   "cell_type": "code",
   "execution_count": 33,
   "metadata": {
    "colab": {},
    "colab_type": "code",
    "id": "wgVu02DEVp_0"
   },
   "outputs": [
    {
     "name": "stdout",
     "output_type": "stream",
     "text": [
      "2014\n"
     ]
    }
   ],
   "source": [
    "film_warner = data_work[data_work['production_companies'].str.contains('Warner Bros')]\n",
    "year_sum_profit_warner = film_warner.groupby('release_year')['profit'].sum().sort_values(ascending = False)\n",
    "answers['20'] = year_sum_profit_warner.index[0]\n",
    "print(answers['20'])"
   ]
  },
  {
   "cell_type": "markdown",
   "metadata": {
    "colab_type": "text",
    "id": "8Im1S2HRVp_4"
   },
   "source": [
    "# 21. В каком месяце за все годы суммарно вышло больше всего фильмов?"
   ]
  },
  {
   "cell_type": "code",
   "execution_count": 34,
   "metadata": {
    "colab": {},
    "colab_type": "code",
    "id": "lev6TH7gVp_4"
   },
   "outputs": [
    {
     "name": "stdout",
     "output_type": "stream",
     "text": [
      "September\n"
     ]
    }
   ],
   "source": [
    "film_for_month = data_work.groupby(pd.DatetimeIndex(data_work['release_date']).month)['original_title'].count().\\\n",
    "sort_values(ascending = False)\n",
    "answers['21'] = list_month[film_for_month.index[0]-1]\n",
    "print(answers['21'])"
   ]
  },
  {
   "cell_type": "markdown",
   "metadata": {
    "colab_type": "text",
    "id": "uAJsZ_NeVp_7"
   },
   "source": [
    "# 22. Сколько суммарно вышло фильмов летом? (за июнь, июль, август)"
   ]
  },
  {
   "cell_type": "code",
   "execution_count": 35,
   "metadata": {
    "colab": {},
    "colab_type": "code",
    "id": "Aa-hEREoVp_8"
   },
   "outputs": [
    {
     "name": "stdout",
     "output_type": "stream",
     "text": [
      "450\n"
     ]
    }
   ],
   "source": [
    "answers['22'] = film_for_month[6] + film_for_month[7] + film_for_month[8]\n",
    "print(answers['22'])"
   ]
  },
  {
   "cell_type": "markdown",
   "metadata": {
    "colab_type": "text",
    "id": "G94ppOY1VqAA"
   },
   "source": [
    "# 23. Для какого режиссера зима – самое продуктивное время года? "
   ]
  },
  {
   "cell_type": "code",
   "execution_count": 36,
   "metadata": {
    "colab": {},
    "colab_type": "code",
    "id": "RhNTsamuVqAB"
   },
   "outputs": [
    {
     "name": "stdout",
     "output_type": "stream",
     "text": [
      "Peter Jackson\n"
     ]
    }
   ],
   "source": [
    "film_winter = data_work[data_work['season'] == 'Winter']\n",
    "director_max_winter = film_winter['director'].value_counts()\n",
    "answers['23'] = director_max_winter.index[0]\n",
    "print(answers['23'])"
   ]
  },
  {
   "cell_type": "markdown",
   "metadata": {
    "colab_type": "text",
    "id": "RBo0JVjVVqAF"
   },
   "source": [
    "# 24. Какая студия дает самые длинные названия своим фильмам по количеству символов?"
   ]
  },
  {
   "cell_type": "code",
   "execution_count": 37,
   "metadata": {
    "colab": {},
    "colab_type": "code",
    "id": "QRGS8L0iVqAG"
   },
   "outputs": [
    {
     "name": "stdout",
     "output_type": "stream",
     "text": [
      "Twentieth Century Fox Film Corporation|Four By Two Productions\n"
     ]
    }
   ],
   "source": [
    "original_title_data = data_work['original_title']\n",
    "length_title_data = []\n",
    "index_max_length = 0\n",
    "for i in range(len(original_title_data)):\n",
    "    length_title_data.append(len(original_title_data[i]))\n",
    "for i in range(len(length_title_data)):\n",
    "    if length_title_data[i] == max(length_title_data):\n",
    "        index_max_length = i\n",
    "index_max_length\n",
    "answers['24'] = data_work.loc[index_max_length, 'production_companies']\n",
    "print(answers['24'])"
   ]
  },
  {
   "cell_type": "markdown",
   "metadata": {
    "colab_type": "text",
    "id": "9G0hbvR7VqAK"
   },
   "source": [
    "# 25. Описание фильмов какой студии в среднем самые длинные по количеству слов?"
   ]
  },
  {
   "cell_type": "code",
   "execution_count": 38,
   "metadata": {
    "colab": {},
    "colab_type": "code",
    "id": "Ge2GsLNxVqAK"
   },
   "outputs": [],
   "source": [
    "list_company = unique_value(compound_value (data_work, 'production_companies'))\n",
    "company_quantity_word = []\n",
    "for row in list_company:\n",
    "    quantity_word = 0\n",
    "    quantity_film = 0\n",
    "    for i in range(len(data_work['production_companies'])):\n",
    "        if row in data_work['production_companies'][i]:\n",
    "            quantity_word += data_work['quantity_word'][i]\n",
    "            quantity_film += 1\n",
    "    company_quantity_word.append([row, quantity_word, quantity_film])\n",
    "company_tagline = pd.DataFrame(data = company_quantity_word, columns = ['production_companies', 'sum_word', 'quantity_film'])"
   ]
  },
  {
   "cell_type": "code",
   "execution_count": 39,
   "metadata": {},
   "outputs": [
    {
     "data": {
      "text/html": [
       "<div>\n",
       "<style scoped>\n",
       "    .dataframe tbody tr th:only-of-type {\n",
       "        vertical-align: middle;\n",
       "    }\n",
       "\n",
       "    .dataframe tbody tr th {\n",
       "        vertical-align: top;\n",
       "    }\n",
       "\n",
       "    .dataframe thead th {\n",
       "        text-align: right;\n",
       "    }\n",
       "</style>\n",
       "<table border=\"1\" class=\"dataframe\">\n",
       "  <thead>\n",
       "    <tr style=\"text-align: right;\">\n",
       "      <th></th>\n",
       "      <th>production_companies</th>\n",
       "      <th>sum_word</th>\n",
       "      <th>quantity_film</th>\n",
       "    </tr>\n",
       "  </thead>\n",
       "  <tbody>\n",
       "    <tr>\n",
       "      <th>0</th>\n",
       "      <td>Universal Studios</td>\n",
       "      <td>37</td>\n",
       "      <td>6</td>\n",
       "    </tr>\n",
       "    <tr>\n",
       "      <th>1</th>\n",
       "      <td>Amblin Entertainment</td>\n",
       "      <td>174</td>\n",
       "      <td>23</td>\n",
       "    </tr>\n",
       "    <tr>\n",
       "      <th>2</th>\n",
       "      <td>Legendary Pictures</td>\n",
       "      <td>199</td>\n",
       "      <td>34</td>\n",
       "    </tr>\n",
       "    <tr>\n",
       "      <th>3</th>\n",
       "      <td>Fuji Television Network</td>\n",
       "      <td>13</td>\n",
       "      <td>3</td>\n",
       "    </tr>\n",
       "    <tr>\n",
       "      <th>4</th>\n",
       "      <td>Dentsu</td>\n",
       "      <td>84</td>\n",
       "      <td>13</td>\n",
       "    </tr>\n",
       "  </tbody>\n",
       "</table>\n",
       "</div>"
      ],
      "text/plain": [
       "      production_companies  sum_word  quantity_film\n",
       "0        Universal Studios        37              6\n",
       "1     Amblin Entertainment       174             23\n",
       "2       Legendary Pictures       199             34\n",
       "3  Fuji Television Network        13              3\n",
       "4                   Dentsu        84             13"
      ]
     },
     "execution_count": 39,
     "metadata": {},
     "output_type": "execute_result"
    }
   ],
   "source": [
    "company_tagline.head()"
   ]
  },
  {
   "cell_type": "code",
   "execution_count": 40,
   "metadata": {
    "scrolled": true
   },
   "outputs": [
    {
     "data": {
      "text/html": [
       "<div>\n",
       "<style scoped>\n",
       "    .dataframe tbody tr th:only-of-type {\n",
       "        vertical-align: middle;\n",
       "    }\n",
       "\n",
       "    .dataframe tbody tr th {\n",
       "        vertical-align: top;\n",
       "    }\n",
       "\n",
       "    .dataframe thead th {\n",
       "        text-align: right;\n",
       "    }\n",
       "</style>\n",
       "<table border=\"1\" class=\"dataframe\">\n",
       "  <thead>\n",
       "    <tr style=\"text-align: right;\">\n",
       "      <th></th>\n",
       "      <th>production_companies</th>\n",
       "      <th>sum_word</th>\n",
       "      <th>quantity_film</th>\n",
       "      <th>mean_word</th>\n",
       "    </tr>\n",
       "  </thead>\n",
       "  <tbody>\n",
       "    <tr>\n",
       "      <th>0</th>\n",
       "      <td>Universal Studios</td>\n",
       "      <td>37</td>\n",
       "      <td>6</td>\n",
       "      <td>6.166667</td>\n",
       "    </tr>\n",
       "    <tr>\n",
       "      <th>1</th>\n",
       "      <td>Amblin Entertainment</td>\n",
       "      <td>174</td>\n",
       "      <td>23</td>\n",
       "      <td>7.565217</td>\n",
       "    </tr>\n",
       "    <tr>\n",
       "      <th>2</th>\n",
       "      <td>Legendary Pictures</td>\n",
       "      <td>199</td>\n",
       "      <td>34</td>\n",
       "      <td>5.852941</td>\n",
       "    </tr>\n",
       "    <tr>\n",
       "      <th>3</th>\n",
       "      <td>Fuji Television Network</td>\n",
       "      <td>13</td>\n",
       "      <td>3</td>\n",
       "      <td>4.333333</td>\n",
       "    </tr>\n",
       "    <tr>\n",
       "      <th>4</th>\n",
       "      <td>Dentsu</td>\n",
       "      <td>84</td>\n",
       "      <td>13</td>\n",
       "      <td>6.461538</td>\n",
       "    </tr>\n",
       "  </tbody>\n",
       "</table>\n",
       "</div>"
      ],
      "text/plain": [
       "      production_companies  sum_word  quantity_film  mean_word\n",
       "0        Universal Studios        37              6   6.166667\n",
       "1     Amblin Entertainment       174             23   7.565217\n",
       "2       Legendary Pictures       199             34   5.852941\n",
       "3  Fuji Television Network        13              3   4.333333\n",
       "4                   Dentsu        84             13   6.461538"
      ]
     },
     "execution_count": 40,
     "metadata": {},
     "output_type": "execute_result"
    }
   ],
   "source": [
    "company_tagline['mean_word'] = company_tagline['sum_word'] / company_tagline['quantity_film']\n",
    "company_tagline.head()"
   ]
  },
  {
   "cell_type": "code",
   "execution_count": 91,
   "metadata": {},
   "outputs": [
    {
     "name": "stdout",
     "output_type": "stream",
     "text": [
      "Beverly Detroit\n"
     ]
    }
   ],
   "source": [
    "index = company_tagline[company_tagline['mean_word'] == company_tagline['mean_word'].max()].index\n",
    "answers['25'] = company_tagline.loc[index[0], 'production_companies']\n",
    "print (answers['25'])"
   ]
  },
  {
   "cell_type": "code",
   "execution_count": 93,
   "metadata": {},
   "outputs": [
    {
     "data": {
      "text/plain": [
       "1111    49.000000\n",
       "1444    24.000000\n",
       "1112    23.333333\n",
       "467     21.000000\n",
       "230     19.666667\n",
       "          ...    \n",
       "594      1.000000\n",
       "1360     1.000000\n",
       "1538     1.000000\n",
       "1374     1.000000\n",
       "1375     1.000000\n",
       "Name: mean_word, Length: 1771, dtype: float64"
      ]
     },
     "execution_count": 93,
     "metadata": {},
     "output_type": "execute_result"
    }
   ],
   "source": [
    "company_tagline['mean_word'].sort_values(ascending = False)"
   ]
  },
  {
   "cell_type": "code",
   "execution_count": 109,
   "metadata": {},
   "outputs": [
    {
     "data": {
      "text/html": [
       "<div>\n",
       "<style scoped>\n",
       "    .dataframe tbody tr th:only-of-type {\n",
       "        vertical-align: middle;\n",
       "    }\n",
       "\n",
       "    .dataframe tbody tr th {\n",
       "        vertical-align: top;\n",
       "    }\n",
       "\n",
       "    .dataframe thead th {\n",
       "        text-align: right;\n",
       "    }\n",
       "</style>\n",
       "<table border=\"1\" class=\"dataframe\">\n",
       "  <thead>\n",
       "    <tr style=\"text-align: right;\">\n",
       "      <th></th>\n",
       "      <th>production_companies</th>\n",
       "      <th>sum_word</th>\n",
       "      <th>quantity_film</th>\n",
       "      <th>mean_word</th>\n",
       "    </tr>\n",
       "  </thead>\n",
       "  <tbody>\n",
       "    <tr>\n",
       "      <th>975</th>\n",
       "      <td>Total Entertainment</td>\n",
       "      <td>5</td>\n",
       "      <td>1</td>\n",
       "      <td>5.0</td>\n",
       "    </tr>\n",
       "  </tbody>\n",
       "</table>\n",
       "</div>"
      ],
      "text/plain": [
       "    production_companies  sum_word  quantity_film  mean_word\n",
       "975  Total Entertainment         5              1        5.0"
      ]
     },
     "execution_count": 109,
     "metadata": {},
     "output_type": "execute_result"
    }
   ],
   "source": [
    "company_tagline[company_tagline['production_companies'] == 'Total Entertainment']"
   ]
  },
  {
   "cell_type": "markdown",
   "metadata": {
    "colab_type": "text",
    "id": "FJ1AFt90VqAP"
   },
   "source": [
    "# 26. Какие фильмы входят в 1 процент лучших по рейтингу? \n",
    "по vote_average"
   ]
  },
  {
   "cell_type": "code",
   "execution_count": 48,
   "metadata": {
    "colab": {},
    "colab_type": "code",
    "id": "8qmJVq4CVqAQ"
   },
   "outputs": [
    {
     "name": "stdout",
     "output_type": "stream",
     "text": [
      "['Inside Out', 'Room', 'Interstellar', 'The Imitation Game', 'The Dark Knight']\n"
     ]
    }
   ],
   "source": [
    "limit_min = data_work['vote_average'].max() - 10/100\n",
    "limit_max = data_work['vote_average'].max()\n",
    "data_vote_average = data_work.query('@limit_min <= vote_average <= @limit_max')\n",
    "answers['26'] = list(data_vote_average['original_title'])\n",
    "print(answers['26'])"
   ]
  },
  {
   "cell_type": "markdown",
   "metadata": {
    "colab_type": "text",
    "id": "MdXsUXbCVqAV"
   },
   "source": [
    "# 27. Какие актеры чаще всего снимаются в одном фильме вместе?\n"
   ]
  },
  {
   "cell_type": "markdown",
   "metadata": {
    "colab_type": "text",
    "id": "4ymnxEVoVqAW"
   },
   "source": [
    "ВАРИАНТ 2"
   ]
  },
  {
   "cell_type": "code",
   "execution_count": 84,
   "metadata": {},
   "outputs": [],
   "source": [
    "list_actor = unique_value(compound_value(data_work, 'cast'))\n",
    "#создаем список актеров\n",
    "list_two_actor = []\n",
    "actor_1 = ''\n",
    "actor_2 = ''\n",
    "for i in range(len(list_actor)-1):\n",
    "    actor_1 = list_actor[i]\n",
    "    for j in range((i+1),len(list_actor)):\n",
    "        actor_2 = list_actor[j]\n",
    "        list_two_actor.append([actor_1, actor_2])"
   ]
  },
  {
   "cell_type": "code",
   "execution_count": 85,
   "metadata": {},
   "outputs": [],
   "source": [
    "result_list_actor = []\n",
    "for i in range(len(list_two_actor)):\n",
    "    quantity_two_actor = 0\n",
    "    two_actor = list_two_actor[i][0] +'&'+ list_two_actor[i][1]\n",
    "    #определяем строки DataFrame с заданными актерами\n",
    "    index_for_first = list(data_work[data_work['cast'].str.contains(list_two_actor[i][0])].index)\n",
    "    index_for_second = list(data_work[data_work['cast'].str.contains(list_two_actor[i][1])].index)\n",
    "    #Сравнение списков строк для определения участия двух актеров в фильме\n",
    "    for j in range(len(index_for_first)):\n",
    "        for k in range(len(index_for_second)):\n",
    "            if index_for_first[j] == index_for_second[k]:\n",
    "                quantity_two_actor += 1\n",
    "                result_list_actor.append([two_actor, quantity_two_actor])    \n",
    "list_two_actor_data = pd.DataFrame(data = result_list_actor, columns = ['name_actor', 'quantity_cast'])"
   ]
  },
  {
   "cell_type": "code",
   "execution_count": 89,
   "metadata": {},
   "outputs": [
    {
     "name": "stdout",
     "output_type": "stream",
     "text": [
      "                          name_actor  quantity_cast\n",
      "7813    Daniel Radcliffe&Emma Watson              8\n",
      "7821   Daniel Radcliffe&Rupert Grint              8\n",
      "10693       Emma Watson&Rupert Grint              8\n"
     ]
    }
   ],
   "source": [
    "answers['27'] = list_two_actor_data[list_two_actor_data['quantity_cast'] == list_two_actor_data['quantity_cast'].max()]\n",
    "print(answers['27'])                              "
   ]
  },
  {
   "cell_type": "markdown",
   "metadata": {
    "colab_type": "text",
    "id": "U0nONFnGVqAX"
   },
   "source": [
    "# Submission"
   ]
  },
  {
   "cell_type": "code",
   "execution_count": 110,
   "metadata": {
    "colab": {},
    "colab_type": "code",
    "id": "IfcaRO9-VqAX",
    "outputId": "0f132912-32bb-4196-c98c-abfbc4ad5a5f",
    "scrolled": true
   },
   "outputs": [
    {
     "data": {
      "text/plain": [
       "{'1': 'Pirates of the Caribbean: On Stranger Tides(tt1298650)',\n",
       " '2': 'Gods and Generals(tt0279111)',\n",
       " '3': 'Winnie the Pooh(tt1449283)',\n",
       " '4': 109.6585494970884,\n",
       " '5': 107.0,\n",
       " '6': 'Avatar(tt0499549)',\n",
       " '7': 'The Lone Ranger(tt1210819)',\n",
       " '8': 1478,\n",
       " '9': 'The Dark Knight(tt0468569)',\n",
       " '10': 'The Lone Ranger(tt1210819)',\n",
       " '11': ('Drama', 782),\n",
       " '12': ('Drama', 560),\n",
       " '13': 'Peter Jackson',\n",
       " '14': 'Antoine Fuqua',\n",
       " '15': ['Robert Downey Jr.|Chris Evans|Mark Ruffalo|Chris Hemsworth|Scarlett Johansson'],\n",
       " '16': ('Adam Sandler', 16),\n",
       " '17': ('Action', 17),\n",
       " '18': 'K-19: The Widowmaker(tt0267626)',\n",
       " '19': 2015,\n",
       " '20': 2014,\n",
       " '21': 'September',\n",
       " '22': 450,\n",
       " '23': 'Peter Jackson',\n",
       " '24': 'Twentieth Century Fox Film Corporation|Four By Two Productions',\n",
       " '25': 'Beverly Detroit',\n",
       " '26': ['Inside Out',\n",
       "  'Room',\n",
       "  'Interstellar',\n",
       "  'The Imitation Game',\n",
       "  'The Dark Knight'],\n",
       " '27':                           name_actor  quantity_cast\n",
       " 7813    Daniel Radcliffe&Emma Watson              8\n",
       " 7821   Daniel Radcliffe&Rupert Grint              8\n",
       " 10693       Emma Watson&Rupert Grint              8}"
      ]
     },
     "execution_count": 110,
     "metadata": {},
     "output_type": "execute_result"
    }
   ],
   "source": [
    "# в конце можно посмотреть свои ответы к каждому вопросу\n",
    "answers"
   ]
  },
  {
   "cell_type": "code",
   "execution_count": null,
   "metadata": {
    "colab": {},
    "colab_type": "code",
    "id": "SiRmHPl8VqAd"
   },
   "outputs": [],
   "source": [
    "# и убедиться что ни чего не пропустил)\n",
    "len(answers)"
   ]
  },
  {
   "cell_type": "code",
   "execution_count": null,
   "metadata": {
    "colab": {},
    "colab_type": "code",
    "id": "uCfuTkRbVqAg"
   },
   "outputs": [],
   "source": []
  },
  {
   "cell_type": "code",
   "execution_count": null,
   "metadata": {
    "colab": {},
    "colab_type": "code",
    "id": "Vwx3NrkSVqAl"
   },
   "outputs": [],
   "source": []
  }
 ],
 "metadata": {
  "colab": {
   "name": "Copy of [SF-DST] Movies IMBD v4.1 TEMPLATE.ipynb",
   "provenance": []
  },
  "kernelspec": {
   "display_name": "Python 3",
   "language": "python",
   "name": "python3"
  },
  "language_info": {
   "codemirror_mode": {
    "name": "ipython",
    "version": 3
   },
   "file_extension": ".py",
   "mimetype": "text/x-python",
   "name": "python",
   "nbconvert_exporter": "python",
   "pygments_lexer": "ipython3",
   "version": "3.7.6"
  }
 },
 "nbformat": 4,
 "nbformat_minor": 1
}
