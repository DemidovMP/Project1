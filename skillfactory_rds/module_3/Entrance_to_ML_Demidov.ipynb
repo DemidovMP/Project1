{
 "cells": [
  {
   "cell_type": "markdown",
   "metadata": {},
   "source": [
    "# Загрузка Pandas и очистка данных"
   ]
  },
  {
   "cell_type": "code",
   "execution_count": 1,
   "metadata": {},
   "outputs": [],
   "source": [
    "import pandas as pd\n",
    "import numpy as np\n",
    "import re\n",
    "import math\n",
    "import collections\n",
    "from datetime import datetime, date, timedelta\n",
    "import matplotlib.pyplot as plt\n",
    "import seaborn as sns\n",
    "import warnings;warnings.simplefilter('ignore')\n",
    "%matplotlib inline"
   ]
  },
  {
   "cell_type": "code",
   "execution_count": 2,
   "metadata": {},
   "outputs": [],
   "source": [
    "pd.set_option('display.max_rows', 50) # показывать больше строк\n",
    "pd.set_option('display.max_columns', 50) # показывать больше колонок"
   ]
  },
  {
   "cell_type": "code",
   "execution_count": 3,
   "metadata": {},
   "outputs": [
    {
     "name": "stdout",
     "output_type": "stream",
     "text": [
      "<class 'pandas.core.frame.DataFrame'>\n",
      "RangeIndex: 40000 entries, 0 to 39999\n",
      "Data columns (total 10 columns):\n",
      " #   Column             Non-Null Count  Dtype  \n",
      "---  ------             --------------  -----  \n",
      " 0   Restaurant_id      40000 non-null  object \n",
      " 1   City               40000 non-null  object \n",
      " 2   Cuisine Style      30717 non-null  object \n",
      " 3   Ranking            40000 non-null  float64\n",
      " 4   Rating             40000 non-null  float64\n",
      " 5   Price Range        26114 non-null  object \n",
      " 6   Number of Reviews  37457 non-null  float64\n",
      " 7   Reviews            40000 non-null  object \n",
      " 8   URL_TA             40000 non-null  object \n",
      " 9   ID_TA              40000 non-null  object \n",
      "dtypes: float64(3), object(7)\n",
      "memory usage: 3.1+ MB\n"
     ]
    }
   ],
   "source": [
    "df = pd.read_csv('main_task.csv')\n",
    "df.info()"
   ]
  },
  {
   "cell_type": "code",
   "execution_count": 4,
   "metadata": {
    "scrolled": true
   },
   "outputs": [
    {
     "data": {
      "text/html": [
       "<div>\n",
       "<style scoped>\n",
       "    .dataframe tbody tr th:only-of-type {\n",
       "        vertical-align: middle;\n",
       "    }\n",
       "\n",
       "    .dataframe tbody tr th {\n",
       "        vertical-align: top;\n",
       "    }\n",
       "\n",
       "    .dataframe thead th {\n",
       "        text-align: right;\n",
       "    }\n",
       "</style>\n",
       "<table border=\"1\" class=\"dataframe\">\n",
       "  <thead>\n",
       "    <tr style=\"text-align: right;\">\n",
       "      <th></th>\n",
       "      <th>Restaurant_id</th>\n",
       "      <th>City</th>\n",
       "      <th>Cuisine Style</th>\n",
       "      <th>Ranking</th>\n",
       "      <th>Rating</th>\n",
       "      <th>Price Range</th>\n",
       "      <th>Number of Reviews</th>\n",
       "      <th>Reviews</th>\n",
       "      <th>URL_TA</th>\n",
       "      <th>ID_TA</th>\n",
       "    </tr>\n",
       "  </thead>\n",
       "  <tbody>\n",
       "    <tr>\n",
       "      <th>0</th>\n",
       "      <td>id_5569</td>\n",
       "      <td>Paris</td>\n",
       "      <td>['European', 'French', 'International']</td>\n",
       "      <td>5570.0</td>\n",
       "      <td>3.5</td>\n",
       "      <td>$$ - $$$</td>\n",
       "      <td>194.0</td>\n",
       "      <td>[['Good food at your doorstep', 'A good hotel ...</td>\n",
       "      <td>/Restaurant_Review-g187147-d1912643-Reviews-R_...</td>\n",
       "      <td>d1912643</td>\n",
       "    </tr>\n",
       "    <tr>\n",
       "      <th>1</th>\n",
       "      <td>id_1535</td>\n",
       "      <td>Stockholm</td>\n",
       "      <td>NaN</td>\n",
       "      <td>1537.0</td>\n",
       "      <td>4.0</td>\n",
       "      <td>NaN</td>\n",
       "      <td>10.0</td>\n",
       "      <td>[['Unique cuisine', 'Delicious Nepalese food']...</td>\n",
       "      <td>/Restaurant_Review-g189852-d7992032-Reviews-Bu...</td>\n",
       "      <td>d7992032</td>\n",
       "    </tr>\n",
       "  </tbody>\n",
       "</table>\n",
       "</div>"
      ],
      "text/plain": [
       "  Restaurant_id       City                            Cuisine Style  Ranking  \\\n",
       "0       id_5569      Paris  ['European', 'French', 'International']   5570.0   \n",
       "1       id_1535  Stockholm                                      NaN   1537.0   \n",
       "\n",
       "   Rating Price Range  Number of Reviews  \\\n",
       "0     3.5    $$ - $$$              194.0   \n",
       "1     4.0         NaN               10.0   \n",
       "\n",
       "                                             Reviews  \\\n",
       "0  [['Good food at your doorstep', 'A good hotel ...   \n",
       "1  [['Unique cuisine', 'Delicious Nepalese food']...   \n",
       "\n",
       "                                              URL_TA     ID_TA  \n",
       "0  /Restaurant_Review-g187147-d1912643-Reviews-R_...  d1912643  \n",
       "1  /Restaurant_Review-g189852-d7992032-Reviews-Bu...  d7992032  "
      ]
     },
     "execution_count": 4,
     "metadata": {},
     "output_type": "execute_result"
    }
   ],
   "source": [
    "df.head(2)"
   ]
  },
  {
   "cell_type": "markdown",
   "metadata": {},
   "source": [
    "### Функции для работы"
   ]
  },
  {
   "cell_type": "code",
   "execution_count": 5,
   "metadata": {},
   "outputs": [],
   "source": [
    "#Функция для получения списка в столбце\n",
    "def list_for_object (variable):\n",
    "    result = []\n",
    "    pattern = re.compile('\\dd\\s\\dd')\n",
    "    if type(variable) == str:\n",
    "        list_work = re.sub('\\s\\'|\\'','', variable).split(',')\n",
    "        for i in list_work:\n",
    "            var = re.sub('\\]','', i)\n",
    "            var_2 = re.sub('\\[','', var)\n",
    "            var_3 = var_2.lstrip(' ')\n",
    "            result.append(var_3)\n",
    "    else: result.append('No_name')\n",
    "    return result"
   ]
  },
  {
   "cell_type": "code",
   "execution_count": 6,
   "metadata": {},
   "outputs": [],
   "source": [
    "#функция для заполнения type_cusin\n",
    "def var_for_type_cusin (list_analysis):\n",
    "    s = set()\n",
    "    for i in list_analysis:\n",
    "        if i in top_cuisin:\n",
    "            s.add(i)\n",
    "        else: s.add('other')\n",
    "    s = list(s)\n",
    "    result = s[0]\n",
    "    for j in range(1,len(s)):\n",
    "        result += ','+s[j]\n",
    "    return result"
   ]
  },
  {
   "cell_type": "markdown",
   "metadata": {},
   "source": [
    "### Анализ значений в столбце \"Price Range\""
   ]
  },
  {
   "cell_type": "code",
   "execution_count": 7,
   "metadata": {},
   "outputs": [
    {
     "data": {
      "text/plain": [
       "array(['$$ - $$$', nan, '$$$$', '$'], dtype=object)"
      ]
     },
     "execution_count": 7,
     "metadata": {},
     "output_type": "execute_result"
    }
   ],
   "source": [
    "df['Price Range'].unique()"
   ]
  },
  {
   "cell_type": "code",
   "execution_count": 8,
   "metadata": {},
   "outputs": [],
   "source": [
    "#Заменим значения NaN на '0'\n",
    "df['Price Range'] = df['Price Range'].fillna(0)"
   ]
  },
  {
   "cell_type": "code",
   "execution_count": 9,
   "metadata": {},
   "outputs": [
    {
     "data": {
      "text/plain": [
       "array(['$$ - $$$', 0, '$$$$', '$'], dtype=object)"
      ]
     },
     "execution_count": 9,
     "metadata": {},
     "output_type": "execute_result"
    }
   ],
   "source": [
    "df['Price Range'].unique()"
   ]
  },
  {
   "cell_type": "code",
   "execution_count": 10,
   "metadata": {
    "scrolled": true
   },
   "outputs": [
    {
     "data": {
      "text/plain": [
       "Restaurant_id        18412\n",
       "City                 18412\n",
       "Cuisine Style        18412\n",
       "Ranking              18412\n",
       "Rating               18412\n",
       "Price Range          18412\n",
       "Number of Reviews    18197\n",
       "Reviews              18412\n",
       "URL_TA               18412\n",
       "ID_TA                18412\n",
       "dtype: int64"
      ]
     },
     "execution_count": 10,
     "metadata": {},
     "output_type": "execute_result"
    }
   ],
   "source": [
    "df[df['Price Range'] == '$$ - $$$'].count()"
   ]
  },
  {
   "cell_type": "markdown",
   "metadata": {},
   "source": [
    "#### В столбце \"Price Range\" представлены ординальными признаками. Значения данных:\n",
    "   - \\\\$ - Низкий уровень цен; \n",
    "   - \\\\$\\\\$ - \\\\$\\\\$\\\\$- средний уровень цен;\n",
    "   - \\\\$\\\\$\\\\$\\\\$ - высокий уровень цен."
   ]
  },
  {
   "cell_type": "code",
   "execution_count": 11,
   "metadata": {},
   "outputs": [],
   "source": [
    "# Зашифруем ординальные признаки цифрами. Будем использовать значения от 1 одного до 3 \n",
    "#(цены в ресторане с высоким уровнем цен выше, чем в ресторане с низким уровнем цен)\n",
    "dict_prise = {'$': 1, '$$ - $$$' : 2, '$$$$' : 3, 0 : 0}"
   ]
  },
  {
   "cell_type": "code",
   "execution_count": 12,
   "metadata": {},
   "outputs": [
    {
     "name": "stdout",
     "output_type": "stream",
     "text": [
      "      Price Range  prise_range_key\n",
      "0        $$ - $$$                2\n",
      "1               0                0\n",
      "2            $$$$                3\n",
      "3               0                0\n",
      "4        $$ - $$$                2\n",
      "...           ...              ...\n",
      "39995    $$ - $$$                2\n",
      "39996    $$ - $$$                2\n",
      "39997           0                0\n",
      "39998    $$ - $$$                2\n",
      "39999    $$ - $$$                2\n",
      "\n",
      "[40000 rows x 2 columns]\n"
     ]
    }
   ],
   "source": [
    "df['prise_range_key'] = df['Price Range'].replace(to_replace = dict_prise)\n",
    "print(df[['Price Range', 'prise_range_key']])"
   ]
  },
  {
   "cell_type": "code",
   "execution_count": 13,
   "metadata": {},
   "outputs": [
    {
     "data": {
      "text/html": [
       "<div>\n",
       "<style scoped>\n",
       "    .dataframe tbody tr th:only-of-type {\n",
       "        vertical-align: middle;\n",
       "    }\n",
       "\n",
       "    .dataframe tbody tr th {\n",
       "        vertical-align: top;\n",
       "    }\n",
       "\n",
       "    .dataframe thead th {\n",
       "        text-align: right;\n",
       "    }\n",
       "</style>\n",
       "<table border=\"1\" class=\"dataframe\">\n",
       "  <thead>\n",
       "    <tr style=\"text-align: right;\">\n",
       "      <th></th>\n",
       "      <th>Restaurant_id</th>\n",
       "      <th>City</th>\n",
       "      <th>Cuisine Style</th>\n",
       "      <th>Ranking</th>\n",
       "      <th>Rating</th>\n",
       "      <th>Price Range</th>\n",
       "      <th>Number of Reviews</th>\n",
       "      <th>Reviews</th>\n",
       "      <th>URL_TA</th>\n",
       "      <th>ID_TA</th>\n",
       "      <th>prise_range_key</th>\n",
       "    </tr>\n",
       "  </thead>\n",
       "  <tbody>\n",
       "    <tr>\n",
       "      <th>0</th>\n",
       "      <td>id_5569</td>\n",
       "      <td>Paris</td>\n",
       "      <td>['European', 'French', 'International']</td>\n",
       "      <td>5570.0</td>\n",
       "      <td>3.5</td>\n",
       "      <td>$$ - $$$</td>\n",
       "      <td>194.0</td>\n",
       "      <td>[['Good food at your doorstep', 'A good hotel ...</td>\n",
       "      <td>/Restaurant_Review-g187147-d1912643-Reviews-R_...</td>\n",
       "      <td>d1912643</td>\n",
       "      <td>2</td>\n",
       "    </tr>\n",
       "    <tr>\n",
       "      <th>1</th>\n",
       "      <td>id_1535</td>\n",
       "      <td>Stockholm</td>\n",
       "      <td>NaN</td>\n",
       "      <td>1537.0</td>\n",
       "      <td>4.0</td>\n",
       "      <td>0</td>\n",
       "      <td>10.0</td>\n",
       "      <td>[['Unique cuisine', 'Delicious Nepalese food']...</td>\n",
       "      <td>/Restaurant_Review-g189852-d7992032-Reviews-Bu...</td>\n",
       "      <td>d7992032</td>\n",
       "      <td>0</td>\n",
       "    </tr>\n",
       "  </tbody>\n",
       "</table>\n",
       "</div>"
      ],
      "text/plain": [
       "  Restaurant_id       City                            Cuisine Style  Ranking  \\\n",
       "0       id_5569      Paris  ['European', 'French', 'International']   5570.0   \n",
       "1       id_1535  Stockholm                                      NaN   1537.0   \n",
       "\n",
       "   Rating Price Range  Number of Reviews  \\\n",
       "0     3.5    $$ - $$$              194.0   \n",
       "1     4.0           0               10.0   \n",
       "\n",
       "                                             Reviews  \\\n",
       "0  [['Good food at your doorstep', 'A good hotel ...   \n",
       "1  [['Unique cuisine', 'Delicious Nepalese food']...   \n",
       "\n",
       "                                              URL_TA     ID_TA  \\\n",
       "0  /Restaurant_Review-g187147-d1912643-Reviews-R_...  d1912643   \n",
       "1  /Restaurant_Review-g189852-d7992032-Reviews-Bu...  d7992032   \n",
       "\n",
       "   prise_range_key  \n",
       "0                2  \n",
       "1                0  "
      ]
     },
     "execution_count": 13,
     "metadata": {},
     "output_type": "execute_result"
    }
   ],
   "source": [
    "df.head(2)"
   ]
  },
  {
   "cell_type": "markdown",
   "metadata": {},
   "source": [
    "### Количество уникальных значений в столбце 'Сity'"
   ]
  },
  {
   "cell_type": "code",
   "execution_count": 14,
   "metadata": {},
   "outputs": [],
   "source": [
    "city = df['City'].unique()#City - категориальный признак"
   ]
  },
  {
   "cell_type": "code",
   "execution_count": 15,
   "metadata": {},
   "outputs": [
    {
     "data": {
      "text/plain": [
       "31"
      ]
     },
     "execution_count": 15,
     "metadata": {},
     "output_type": "execute_result"
    }
   ],
   "source": [
    "len(list(city))"
   ]
  },
  {
   "cell_type": "markdown",
   "metadata": {},
   "source": [
    "### Анализ значений в столбце \"Cuisine Style\" - категориальный признак"
   ]
  },
  {
   "cell_type": "code",
   "execution_count": 16,
   "metadata": {
    "scrolled": true
   },
   "outputs": [
    {
     "name": "stdout",
     "output_type": "stream",
     "text": [
      "['European', 'French', 'International']\n"
     ]
    }
   ],
   "source": [
    "print(list_for_object(df['Cuisine Style'][0]))#проверка работы функции list_for_object"
   ]
  },
  {
   "cell_type": "code",
   "execution_count": 17,
   "metadata": {
    "scrolled": true
   },
   "outputs": [
    {
     "data": {
      "text/html": [
       "<div>\n",
       "<style scoped>\n",
       "    .dataframe tbody tr th:only-of-type {\n",
       "        vertical-align: middle;\n",
       "    }\n",
       "\n",
       "    .dataframe tbody tr th {\n",
       "        vertical-align: top;\n",
       "    }\n",
       "\n",
       "    .dataframe thead th {\n",
       "        text-align: right;\n",
       "    }\n",
       "</style>\n",
       "<table border=\"1\" class=\"dataframe\">\n",
       "  <thead>\n",
       "    <tr style=\"text-align: right;\">\n",
       "      <th></th>\n",
       "      <th>Restaurant_id</th>\n",
       "      <th>City</th>\n",
       "      <th>Cuisine Style</th>\n",
       "      <th>Ranking</th>\n",
       "      <th>Rating</th>\n",
       "      <th>Price Range</th>\n",
       "      <th>Number of Reviews</th>\n",
       "      <th>Reviews</th>\n",
       "      <th>URL_TA</th>\n",
       "      <th>ID_TA</th>\n",
       "      <th>prise_range_key</th>\n",
       "    </tr>\n",
       "  </thead>\n",
       "  <tbody>\n",
       "    <tr>\n",
       "      <th>0</th>\n",
       "      <td>id_5569</td>\n",
       "      <td>Paris</td>\n",
       "      <td>[European, French, International]</td>\n",
       "      <td>5570.0</td>\n",
       "      <td>3.5</td>\n",
       "      <td>$$ - $$$</td>\n",
       "      <td>194.0</td>\n",
       "      <td>[['Good food at your doorstep', 'A good hotel ...</td>\n",
       "      <td>/Restaurant_Review-g187147-d1912643-Reviews-R_...</td>\n",
       "      <td>d1912643</td>\n",
       "      <td>2</td>\n",
       "    </tr>\n",
       "    <tr>\n",
       "      <th>1</th>\n",
       "      <td>id_1535</td>\n",
       "      <td>Stockholm</td>\n",
       "      <td>[No_name]</td>\n",
       "      <td>1537.0</td>\n",
       "      <td>4.0</td>\n",
       "      <td>0</td>\n",
       "      <td>10.0</td>\n",
       "      <td>[['Unique cuisine', 'Delicious Nepalese food']...</td>\n",
       "      <td>/Restaurant_Review-g189852-d7992032-Reviews-Bu...</td>\n",
       "      <td>d7992032</td>\n",
       "      <td>0</td>\n",
       "    </tr>\n",
       "  </tbody>\n",
       "</table>\n",
       "</div>"
      ],
      "text/plain": [
       "  Restaurant_id       City                      Cuisine Style  Ranking  \\\n",
       "0       id_5569      Paris  [European, French, International]   5570.0   \n",
       "1       id_1535  Stockholm                          [No_name]   1537.0   \n",
       "\n",
       "   Rating Price Range  Number of Reviews  \\\n",
       "0     3.5    $$ - $$$              194.0   \n",
       "1     4.0           0               10.0   \n",
       "\n",
       "                                             Reviews  \\\n",
       "0  [['Good food at your doorstep', 'A good hotel ...   \n",
       "1  [['Unique cuisine', 'Delicious Nepalese food']...   \n",
       "\n",
       "                                              URL_TA     ID_TA  \\\n",
       "0  /Restaurant_Review-g187147-d1912643-Reviews-R_...  d1912643   \n",
       "1  /Restaurant_Review-g189852-d7992032-Reviews-Bu...  d7992032   \n",
       "\n",
       "   prise_range_key  \n",
       "0                2  \n",
       "1                0  "
      ]
     },
     "execution_count": 17,
     "metadata": {},
     "output_type": "execute_result"
    }
   ],
   "source": [
    "#Замена значений в столбце \"Cuisine Style\"\n",
    "df['Cuisine Style'] = df['Cuisine Style'].apply(list_for_object)\n",
    "df.head(2)"
   ]
  },
  {
   "cell_type": "code",
   "execution_count": 18,
   "metadata": {},
   "outputs": [
    {
     "data": {
      "text/plain": [
       "125"
      ]
     },
     "execution_count": 18,
     "metadata": {},
     "output_type": "execute_result"
    }
   ],
   "source": [
    "#определение количеста типов кухонь\n",
    "set_cuisen_style = set()\n",
    "for i in df['Cuisine Style']:\n",
    "    for j in i:\n",
    "        set_cuisen_style.add(j)\n",
    "len(set_cuisen_style) - 1  #исключаем 'No_name'"
   ]
  },
  {
   "cell_type": "code",
   "execution_count": 19,
   "metadata": {},
   "outputs": [],
   "source": [
    "quantity_cuisen_style = {}  # создаём пустой словарь для хранения информации об типах предсавленных кухонь\n",
    "for item in set_cuisen_style:  # перебираем список кухонь\n",
    "    quantity_cuisen_style[item] = 0 # добавляем в словарь ключ, соответствующий очередной кухне\n",
    "for i in df['Cuisine Style']:   # перебираем список кухонь\n",
    "    for item in i:   # и перечень кухонь для каждого ресторана\n",
    "        quantity_cuisen_style[item] += 1   # увеличиваем значение нужного ключа в словаре на 1"
   ]
  },
  {
   "cell_type": "code",
   "execution_count": 20,
   "metadata": {},
   "outputs": [
    {
     "name": "stdout",
     "output_type": "stream",
     "text": [
      "Vegetarian Friendly\n"
     ]
    }
   ],
   "source": [
    "#Определение популярной кухни\n",
    "for i in quantity_cuisen_style.keys():\n",
    "    if quantity_cuisen_style[i] == max(quantity_cuisen_style.values()):\n",
    "        print(i)"
   ]
  },
  {
   "cell_type": "code",
   "execution_count": 21,
   "metadata": {},
   "outputs": [
    {
     "name": "stdout",
     "output_type": "stream",
     "text": [
      "2.6\n"
     ]
    }
   ],
   "source": [
    "print(round(df['Cuisine Style'].apply(lambda x: len(x)).mean(), 1)) #средняя величина количества кухонь в ресторане"
   ]
  },
  {
   "cell_type": "code",
   "execution_count": 22,
   "metadata": {},
   "outputs": [],
   "source": [
    "### Создаем признак - количество кухонь в рестаране\n",
    "df['quantity_cs'] = df['Cuisine Style'].apply(lambda x: len(x))"
   ]
  },
  {
   "cell_type": "markdown",
   "metadata": {},
   "source": [
    "#### Создаем dummy-переменную\n",
    "Выберим top кухонь для уменьшения количества переменных"
   ]
  },
  {
   "cell_type": "code",
   "execution_count": 23,
   "metadata": {
    "scrolled": true
   },
   "outputs": [
    {
     "data": {
      "text/plain": [
       "{'Polynesian': 2,\n",
       " 'Danish': 177,\n",
       " 'Venezuelan': 40,\n",
       " 'Romanian': 10,\n",
       " 'Russian': 58,\n",
       " 'Azerbaijani': 2,\n",
       " 'Barbecue': 555,\n",
       " 'Middle Eastern': 782,\n",
       " 'Arabic': 51,\n",
       " 'Indonesian': 59,\n",
       " 'Afghani': 22,\n",
       " 'Italian': 5964,\n",
       " 'Balti': 83,\n",
       " 'Cambodian': 20,\n",
       " 'Turkish': 444,\n",
       " 'Czech': 595,\n",
       " 'Wine Bar': 697,\n",
       " 'Armenian': 14,\n",
       " 'Swedish': 171,\n",
       " 'Greek': 604,\n",
       " 'Lebanese': 329,\n",
       " 'Sri Lankan': 25,\n",
       " 'Persian': 53,\n",
       " 'International': 1584,\n",
       " 'Asian': 3011,\n",
       " 'Bangladeshi': 76,\n",
       " 'Norwegian': 75,\n",
       " 'Dutch': 294,\n",
       " 'Belgian': 270,\n",
       " 'Diner': 295,\n",
       " 'Canadian': 5,\n",
       " 'Healthy': 620,\n",
       " 'Street Food': 263,\n",
       " 'Southwestern': 17,\n",
       " 'Xinjiang': 1,\n",
       " 'Thai': 743,\n",
       " 'Tunisian': 21,\n",
       " 'European': 10060,\n",
       " 'German': 662,\n",
       " 'Gastropub': 471,\n",
       " 'Japanese': 1464,\n",
       " 'Hawaiian': 21,\n",
       " 'Gluten Free Options': 4113,\n",
       " 'Cajun & Creole': 20,\n",
       " 'British': 1595,\n",
       " 'Nepali': 83,\n",
       " 'Soups': 494,\n",
       " 'Scandinavian': 342,\n",
       " 'Scottish': 163,\n",
       " 'Korean': 167,\n",
       " 'Grill': 490,\n",
       " 'Brew Pub': 225,\n",
       " 'Steakhouse': 573,\n",
       " 'Latvian': 1,\n",
       " 'Indian': 1041,\n",
       " 'Central Asian': 12,\n",
       " 'Pakistani': 123,\n",
       " 'Georgian': 17,\n",
       " 'Fujian': 2,\n",
       " 'Cuban': 23,\n",
       " 'Contemporary': 523,\n",
       " 'Singaporean': 19,\n",
       " 'Chinese': 1145,\n",
       " 'Israeli': 74,\n",
       " 'No_name': 9283,\n",
       " 'Austrian': 380,\n",
       " 'Pub': 2449,\n",
       " 'Slovenian': 68,\n",
       " 'Kosher': 48,\n",
       " 'Croatian': 27,\n",
       " 'Argentinean': 169,\n",
       " 'New Zealand': 6,\n",
       " 'Uzbek': 5,\n",
       " 'Portuguese': 1107,\n",
       " 'Moroccan': 141,\n",
       " 'Hungarian': 352,\n",
       " 'Filipino': 12,\n",
       " 'Central American': 135,\n",
       " 'Egyptian': 20,\n",
       " 'Polish': 365,\n",
       " 'Cafe': 2325,\n",
       " 'Jamaican': 25,\n",
       " 'Pizza': 2849,\n",
       " 'French': 3190,\n",
       " 'Vegan Options': 4486,\n",
       " 'Vietnamese': 513,\n",
       " 'Irish': 284,\n",
       " 'Mediterranean': 6277,\n",
       " 'Brazilian': 127,\n",
       " 'Chilean': 8,\n",
       " 'Ukrainian': 18,\n",
       " 'Native American': 4,\n",
       " 'Burmese': 1,\n",
       " 'Bar': 3297,\n",
       " 'Taiwanese': 22,\n",
       " 'American': 1315,\n",
       " 'African': 154,\n",
       " 'Central European': 1393,\n",
       " 'Swiss': 178,\n",
       " 'Tibetan': 24,\n",
       " 'Yunnan': 1,\n",
       " 'Ethiopian': 42,\n",
       " 'Fast Food': 1705,\n",
       " 'Delicatessen': 392,\n",
       " 'Ecuadorean': 4,\n",
       " 'Fusion': 577,\n",
       " 'Eastern European': 496,\n",
       " 'Caribbean': 93,\n",
       " 'Minority Chinese': 11,\n",
       " 'Mexican': 445,\n",
       " 'Mongolian': 14,\n",
       " 'Vegetarian Friendly': 11189,\n",
       " 'Sushi': 1156,\n",
       " 'Caucasian': 4,\n",
       " 'Australian': 24,\n",
       " 'Malaysian': 31,\n",
       " 'Colombian': 20,\n",
       " 'South American': 372,\n",
       " 'Welsh': 2,\n",
       " 'Peruvian': 94,\n",
       " 'Halal': 598,\n",
       " 'Salvadoran': 1,\n",
       " 'Spanish': 2798,\n",
       " 'Albanian': 8,\n",
       " 'Latin': 302,\n",
       " 'Seafood': 1505}"
      ]
     },
     "metadata": {},
     "output_type": "display_data"
    }
   ],
   "source": [
    "display(quantity_cuisen_style) #словарь с типами кухонь и количеством ресторанах в которых она представлена"
   ]
  },
  {
   "cell_type": "code",
   "execution_count": 24,
   "metadata": {
    "scrolled": true
   },
   "outputs": [
    {
     "data": {
      "text/html": [
       "<div>\n",
       "<style scoped>\n",
       "    .dataframe tbody tr th:only-of-type {\n",
       "        vertical-align: middle;\n",
       "    }\n",
       "\n",
       "    .dataframe tbody tr th {\n",
       "        vertical-align: top;\n",
       "    }\n",
       "\n",
       "    .dataframe thead th {\n",
       "        text-align: right;\n",
       "    }\n",
       "</style>\n",
       "<table border=\"1\" class=\"dataframe\">\n",
       "  <thead>\n",
       "    <tr style=\"text-align: right;\">\n",
       "      <th></th>\n",
       "      <th>0</th>\n",
       "    </tr>\n",
       "  </thead>\n",
       "  <tbody>\n",
       "    <tr>\n",
       "      <th>Polynesian</th>\n",
       "      <td>2</td>\n",
       "    </tr>\n",
       "    <tr>\n",
       "      <th>Danish</th>\n",
       "      <td>177</td>\n",
       "    </tr>\n",
       "    <tr>\n",
       "      <th>Venezuelan</th>\n",
       "      <td>40</td>\n",
       "    </tr>\n",
       "    <tr>\n",
       "      <th>Romanian</th>\n",
       "      <td>10</td>\n",
       "    </tr>\n",
       "    <tr>\n",
       "      <th>Russian</th>\n",
       "      <td>58</td>\n",
       "    </tr>\n",
       "    <tr>\n",
       "      <th>...</th>\n",
       "      <td>...</td>\n",
       "    </tr>\n",
       "    <tr>\n",
       "      <th>Salvadoran</th>\n",
       "      <td>1</td>\n",
       "    </tr>\n",
       "    <tr>\n",
       "      <th>Spanish</th>\n",
       "      <td>2798</td>\n",
       "    </tr>\n",
       "    <tr>\n",
       "      <th>Albanian</th>\n",
       "      <td>8</td>\n",
       "    </tr>\n",
       "    <tr>\n",
       "      <th>Latin</th>\n",
       "      <td>302</td>\n",
       "    </tr>\n",
       "    <tr>\n",
       "      <th>Seafood</th>\n",
       "      <td>1505</td>\n",
       "    </tr>\n",
       "  </tbody>\n",
       "</table>\n",
       "<p>126 rows × 1 columns</p>\n",
       "</div>"
      ],
      "text/plain": [
       "               0\n",
       "Polynesian     2\n",
       "Danish       177\n",
       "Venezuelan    40\n",
       "Romanian      10\n",
       "Russian       58\n",
       "...          ...\n",
       "Salvadoran     1\n",
       "Spanish     2798\n",
       "Albanian       8\n",
       "Latin        302\n",
       "Seafood     1505\n",
       "\n",
       "[126 rows x 1 columns]"
      ]
     },
     "metadata": {},
     "output_type": "display_data"
    }
   ],
   "source": [
    "#Создадим Data Frame для дальнейшей сортировки\n",
    "quantity_style = pd.DataFrame(data = [quantity_cuisen_style])\n",
    "quantity_style = quantity_style.transpose()\n",
    "display (quantity_style)"
   ]
  },
  {
   "cell_type": "code",
   "execution_count": 25,
   "metadata": {},
   "outputs": [],
   "source": [
    "quantity_style = quantity_style.sort_values(by = 0 , ascending = False)"
   ]
  },
  {
   "cell_type": "code",
   "execution_count": 26,
   "metadata": {},
   "outputs": [],
   "source": [
    "cuisin_style_freqs = list(quantity_style[0])"
   ]
  },
  {
   "cell_type": "code",
   "execution_count": 27,
   "metadata": {},
   "outputs": [
    {
     "data": {
      "text/plain": [
       "13"
      ]
     },
     "execution_count": 27,
     "metadata": {},
     "output_type": "execute_result"
    }
   ],
   "source": [
    "top_сuisine_style = int(np.percentile(cuisin_style_freqs, 90))\n",
    "top_cuisin = quantity_style[quantity_style[0] > top_сuisine_style]\n",
    "len(top_cuisin)"
   ]
  },
  {
   "cell_type": "markdown",
   "metadata": {},
   "source": [
    "Оставим кухни, встречающиеся в 90 процентов ресторанов"
   ]
  },
  {
   "cell_type": "code",
   "execution_count": 28,
   "metadata": {},
   "outputs": [
    {
     "data": {
      "text/plain": [
       "['Vegetarian Friendly',\n",
       " 'European',\n",
       " 'No_name',\n",
       " 'Mediterranean',\n",
       " 'Italian',\n",
       " 'Vegan Options',\n",
       " 'Gluten Free Options',\n",
       " 'Bar',\n",
       " 'French',\n",
       " 'Asian',\n",
       " 'Pizza',\n",
       " 'Spanish']"
      ]
     },
     "execution_count": 28,
     "metadata": {},
     "output_type": "execute_result"
    }
   ],
   "source": [
    "all_cuisin = quantity_style.index\n",
    "top_cuisin = list(all_cuisin)[:len(top_cuisin)-1]\n",
    "cuisen_to_throw_away = list(set(all_cuisin) - set(top_cuisin))\n",
    "top_cuisin"
   ]
  },
  {
   "cell_type": "code",
   "execution_count": 29,
   "metadata": {},
   "outputs": [],
   "source": [
    "df['type_cuisin'] = df['Cuisine Style'].apply(var_for_type_cusin)"
   ]
  },
  {
   "cell_type": "code",
   "execution_count": 30,
   "metadata": {},
   "outputs": [
    {
     "data": {
      "text/html": [
       "<div>\n",
       "<style scoped>\n",
       "    .dataframe tbody tr th:only-of-type {\n",
       "        vertical-align: middle;\n",
       "    }\n",
       "\n",
       "    .dataframe tbody tr th {\n",
       "        vertical-align: top;\n",
       "    }\n",
       "\n",
       "    .dataframe thead th {\n",
       "        text-align: right;\n",
       "    }\n",
       "</style>\n",
       "<table border=\"1\" class=\"dataframe\">\n",
       "  <thead>\n",
       "    <tr style=\"text-align: right;\">\n",
       "      <th></th>\n",
       "      <th>Restaurant_id</th>\n",
       "      <th>City</th>\n",
       "      <th>Cuisine Style</th>\n",
       "      <th>Ranking</th>\n",
       "      <th>Rating</th>\n",
       "      <th>Price Range</th>\n",
       "      <th>Number of Reviews</th>\n",
       "      <th>Reviews</th>\n",
       "      <th>URL_TA</th>\n",
       "      <th>ID_TA</th>\n",
       "      <th>prise_range_key</th>\n",
       "      <th>quantity_cs</th>\n",
       "      <th>type_cuisin</th>\n",
       "    </tr>\n",
       "  </thead>\n",
       "  <tbody>\n",
       "    <tr>\n",
       "      <th>0</th>\n",
       "      <td>id_5569</td>\n",
       "      <td>Paris</td>\n",
       "      <td>[European, French, International]</td>\n",
       "      <td>5570.0</td>\n",
       "      <td>3.5</td>\n",
       "      <td>$$ - $$$</td>\n",
       "      <td>194.0</td>\n",
       "      <td>[['Good food at your doorstep', 'A good hotel ...</td>\n",
       "      <td>/Restaurant_Review-g187147-d1912643-Reviews-R_...</td>\n",
       "      <td>d1912643</td>\n",
       "      <td>2</td>\n",
       "      <td>3</td>\n",
       "      <td>European,French,other</td>\n",
       "    </tr>\n",
       "    <tr>\n",
       "      <th>1</th>\n",
       "      <td>id_1535</td>\n",
       "      <td>Stockholm</td>\n",
       "      <td>[No_name]</td>\n",
       "      <td>1537.0</td>\n",
       "      <td>4.0</td>\n",
       "      <td>0</td>\n",
       "      <td>10.0</td>\n",
       "      <td>[['Unique cuisine', 'Delicious Nepalese food']...</td>\n",
       "      <td>/Restaurant_Review-g189852-d7992032-Reviews-Bu...</td>\n",
       "      <td>d7992032</td>\n",
       "      <td>0</td>\n",
       "      <td>1</td>\n",
       "      <td>No_name</td>\n",
       "    </tr>\n",
       "  </tbody>\n",
       "</table>\n",
       "</div>"
      ],
      "text/plain": [
       "  Restaurant_id       City                      Cuisine Style  Ranking  \\\n",
       "0       id_5569      Paris  [European, French, International]   5570.0   \n",
       "1       id_1535  Stockholm                          [No_name]   1537.0   \n",
       "\n",
       "   Rating Price Range  Number of Reviews  \\\n",
       "0     3.5    $$ - $$$              194.0   \n",
       "1     4.0           0               10.0   \n",
       "\n",
       "                                             Reviews  \\\n",
       "0  [['Good food at your doorstep', 'A good hotel ...   \n",
       "1  [['Unique cuisine', 'Delicious Nepalese food']...   \n",
       "\n",
       "                                              URL_TA     ID_TA  \\\n",
       "0  /Restaurant_Review-g187147-d1912643-Reviews-R_...  d1912643   \n",
       "1  /Restaurant_Review-g189852-d7992032-Reviews-Bu...  d7992032   \n",
       "\n",
       "   prise_range_key  quantity_cs            type_cuisin  \n",
       "0                2            3  European,French,other  \n",
       "1                0            1                No_name  "
      ]
     },
     "execution_count": 30,
     "metadata": {},
     "output_type": "execute_result"
    }
   ],
   "source": [
    "df.head(2)"
   ]
  },
  {
   "cell_type": "code",
   "execution_count": 31,
   "metadata": {},
   "outputs": [
    {
     "name": "stdout",
     "output_type": "stream",
     "text": [
      "<class 'pandas.core.frame.DataFrame'>\n",
      "RangeIndex: 40000 entries, 0 to 39999\n",
      "Data columns (total 13 columns):\n",
      " #   Column               Non-Null Count  Dtype\n",
      "---  ------               --------------  -----\n",
      " 0   Asian                40000 non-null  int64\n",
      " 1   Bar                  40000 non-null  int64\n",
      " 2   European             40000 non-null  int64\n",
      " 3   French               40000 non-null  int64\n",
      " 4   Gluten Free Options  40000 non-null  int64\n",
      " 5   Italian              40000 non-null  int64\n",
      " 6   Mediterranean        40000 non-null  int64\n",
      " 7   No_name              40000 non-null  int64\n",
      " 8   Pizza                40000 non-null  int64\n",
      " 9   Spanish              40000 non-null  int64\n",
      " 10  Vegan Options        40000 non-null  int64\n",
      " 11  Vegetarian Friendly  40000 non-null  int64\n",
      " 12  other                40000 non-null  int64\n",
      "dtypes: int64(13)\n",
      "memory usage: 4.0 MB\n"
     ]
    }
   ],
   "source": [
    "#создаем dummy-переменную\n",
    "df_dummies = df['type_cuisin'].str.get_dummies(',')\n",
    "df_dummies.info()"
   ]
  },
  {
   "cell_type": "markdown",
   "metadata": {},
   "source": [
    "### Анализ значений в столбце \"Reviews\" "
   ]
  },
  {
   "cell_type": "code",
   "execution_count": 32,
   "metadata": {},
   "outputs": [],
   "source": [
    "pattern = re.compile('\\d\\d/\\d\\d/\\d{4}')  "
   ]
  },
  {
   "cell_type": "code",
   "execution_count": 33,
   "metadata": {},
   "outputs": [],
   "source": [
    "#Добавим столбец date_ultimate_reviews\n",
    "df['date_ultimate_reviews'] = df['Reviews'].apply(lambda x: \\\n",
    "   pd.to_datetime(re.findall(pattern, x)[0]) if len(re.findall(pattern, x)) >= 1 else None)    "
   ]
  },
  {
   "cell_type": "code",
   "execution_count": 34,
   "metadata": {},
   "outputs": [],
   "source": [
    "#Добавим столбец date_penultimate_reviews\n",
    "df['date_penultimate_reviews'] = df['Reviews'].apply(lambda x: \\\n",
    "     pd.to_datetime(re.findall(pattern, x)[1]) if len(re.findall(pattern, x)) == 2 else None)"
   ]
  },
  {
   "cell_type": "code",
   "execution_count": 35,
   "metadata": {},
   "outputs": [
    {
     "data": {
      "text/plain": [
       "26781   2018-02-26\n",
       "30334   2018-02-26\n",
       "12019   2018-02-26\n",
       "22263   2018-02-26\n",
       "22880   2018-02-26\n",
       "           ...    \n",
       "39981          NaT\n",
       "39986          NaT\n",
       "39988          NaT\n",
       "39991          NaT\n",
       "39994          NaT\n",
       "Name: date_ultimate_reviews, Length: 40000, dtype: datetime64[ns]"
      ]
     },
     "execution_count": 35,
     "metadata": {},
     "output_type": "execute_result"
    }
   ],
   "source": [
    "df['date_ultimate_reviews'].sort_values(ascending = False)"
   ]
  },
  {
   "cell_type": "code",
   "execution_count": 36,
   "metadata": {},
   "outputs": [],
   "source": [
    "df['time_delta'] = (df['date_ultimate_reviews'] - df['date_penultimate_reviews'])\n",
    "df['time_delta'] = df['time_delta'].apply(lambda x: int(str(x)[:-14]) if len(str(x)) > 5 else 0)    "
   ]
  },
  {
   "cell_type": "code",
   "execution_count": 37,
   "metadata": {},
   "outputs": [
    {
     "data": {
      "text/html": [
       "<div>\n",
       "<style scoped>\n",
       "    .dataframe tbody tr th:only-of-type {\n",
       "        vertical-align: middle;\n",
       "    }\n",
       "\n",
       "    .dataframe tbody tr th {\n",
       "        vertical-align: top;\n",
       "    }\n",
       "\n",
       "    .dataframe thead th {\n",
       "        text-align: right;\n",
       "    }\n",
       "</style>\n",
       "<table border=\"1\" class=\"dataframe\">\n",
       "  <thead>\n",
       "    <tr style=\"text-align: right;\">\n",
       "      <th></th>\n",
       "      <th>Restaurant_id</th>\n",
       "      <th>City</th>\n",
       "      <th>Cuisine Style</th>\n",
       "      <th>Ranking</th>\n",
       "      <th>Rating</th>\n",
       "      <th>Price Range</th>\n",
       "      <th>Number of Reviews</th>\n",
       "      <th>Reviews</th>\n",
       "      <th>URL_TA</th>\n",
       "      <th>ID_TA</th>\n",
       "      <th>prise_range_key</th>\n",
       "      <th>quantity_cs</th>\n",
       "      <th>type_cuisin</th>\n",
       "      <th>date_ultimate_reviews</th>\n",
       "      <th>date_penultimate_reviews</th>\n",
       "      <th>time_delta</th>\n",
       "    </tr>\n",
       "  </thead>\n",
       "  <tbody>\n",
       "    <tr>\n",
       "      <th>0</th>\n",
       "      <td>id_5569</td>\n",
       "      <td>Paris</td>\n",
       "      <td>[European, French, International]</td>\n",
       "      <td>5570.0</td>\n",
       "      <td>3.5</td>\n",
       "      <td>$$ - $$$</td>\n",
       "      <td>194.0</td>\n",
       "      <td>[['Good food at your doorstep', 'A good hotel ...</td>\n",
       "      <td>/Restaurant_Review-g187147-d1912643-Reviews-R_...</td>\n",
       "      <td>d1912643</td>\n",
       "      <td>2</td>\n",
       "      <td>3</td>\n",
       "      <td>European,French,other</td>\n",
       "      <td>2017-12-31</td>\n",
       "      <td>2017-11-20</td>\n",
       "      <td>41</td>\n",
       "    </tr>\n",
       "    <tr>\n",
       "      <th>1</th>\n",
       "      <td>id_1535</td>\n",
       "      <td>Stockholm</td>\n",
       "      <td>[No_name]</td>\n",
       "      <td>1537.0</td>\n",
       "      <td>4.0</td>\n",
       "      <td>0</td>\n",
       "      <td>10.0</td>\n",
       "      <td>[['Unique cuisine', 'Delicious Nepalese food']...</td>\n",
       "      <td>/Restaurant_Review-g189852-d7992032-Reviews-Bu...</td>\n",
       "      <td>d7992032</td>\n",
       "      <td>0</td>\n",
       "      <td>1</td>\n",
       "      <td>No_name</td>\n",
       "      <td>2017-07-06</td>\n",
       "      <td>2016-06-19</td>\n",
       "      <td>382</td>\n",
       "    </tr>\n",
       "  </tbody>\n",
       "</table>\n",
       "</div>"
      ],
      "text/plain": [
       "  Restaurant_id       City                      Cuisine Style  Ranking  \\\n",
       "0       id_5569      Paris  [European, French, International]   5570.0   \n",
       "1       id_1535  Stockholm                          [No_name]   1537.0   \n",
       "\n",
       "   Rating Price Range  Number of Reviews  \\\n",
       "0     3.5    $$ - $$$              194.0   \n",
       "1     4.0           0               10.0   \n",
       "\n",
       "                                             Reviews  \\\n",
       "0  [['Good food at your doorstep', 'A good hotel ...   \n",
       "1  [['Unique cuisine', 'Delicious Nepalese food']...   \n",
       "\n",
       "                                              URL_TA     ID_TA  \\\n",
       "0  /Restaurant_Review-g187147-d1912643-Reviews-R_...  d1912643   \n",
       "1  /Restaurant_Review-g189852-d7992032-Reviews-Bu...  d7992032   \n",
       "\n",
       "   prise_range_key  quantity_cs            type_cuisin date_ultimate_reviews  \\\n",
       "0                2            3  European,French,other            2017-12-31   \n",
       "1                0            1                No_name            2017-07-06   \n",
       "\n",
       "  date_penultimate_reviews  time_delta  \n",
       "0               2017-11-20          41  \n",
       "1               2016-06-19         382  "
      ]
     },
     "execution_count": 37,
     "metadata": {},
     "output_type": "execute_result"
    }
   ],
   "source": [
    "df.head(2)"
   ]
  },
  {
   "cell_type": "code",
   "execution_count": 38,
   "metadata": {},
   "outputs": [
    {
     "data": {
      "text/plain": [
       "3207"
      ]
     },
     "execution_count": 38,
     "metadata": {},
     "output_type": "execute_result"
    }
   ],
   "source": [
    "# Проверка максимального значения разницы между отзывами\n",
    "df['time_delta'].max()"
   ]
  },
  {
   "cell_type": "code",
   "execution_count": 39,
   "metadata": {},
   "outputs": [
    {
     "data": {
      "text/html": [
       "<div>\n",
       "<style scoped>\n",
       "    .dataframe tbody tr th:only-of-type {\n",
       "        vertical-align: middle;\n",
       "    }\n",
       "\n",
       "    .dataframe tbody tr th {\n",
       "        vertical-align: top;\n",
       "    }\n",
       "\n",
       "    .dataframe thead th {\n",
       "        text-align: right;\n",
       "    }\n",
       "</style>\n",
       "<table border=\"1\" class=\"dataframe\">\n",
       "  <thead>\n",
       "    <tr style=\"text-align: right;\">\n",
       "      <th></th>\n",
       "      <th>Restaurant_id</th>\n",
       "      <th>City</th>\n",
       "      <th>Cuisine Style</th>\n",
       "      <th>Ranking</th>\n",
       "      <th>Rating</th>\n",
       "      <th>Price Range</th>\n",
       "      <th>Number of Reviews</th>\n",
       "      <th>Reviews</th>\n",
       "      <th>URL_TA</th>\n",
       "      <th>ID_TA</th>\n",
       "      <th>prise_range_key</th>\n",
       "      <th>quantity_cs</th>\n",
       "      <th>type_cuisin</th>\n",
       "      <th>date_ultimate_reviews</th>\n",
       "      <th>date_penultimate_reviews</th>\n",
       "      <th>time_delta</th>\n",
       "    </tr>\n",
       "  </thead>\n",
       "  <tbody>\n",
       "    <tr>\n",
       "      <th>7990</th>\n",
       "      <td>id_10021</td>\n",
       "      <td>Paris</td>\n",
       "      <td>[Japanese, Barbecue, Sushi]</td>\n",
       "      <td>10023.0</td>\n",
       "      <td>4.0</td>\n",
       "      <td>$</td>\n",
       "      <td>21.0</td>\n",
       "      <td>[['Incredible buffet!', 'Used to be great, but...</td>\n",
       "      <td>/Restaurant_Review-g187147-d805046-Reviews-Yam...</td>\n",
       "      <td>d805046</td>\n",
       "      <td>1</td>\n",
       "      <td>3</td>\n",
       "      <td>other</td>\n",
       "      <td>2016-10-02</td>\n",
       "      <td>2007-12-22</td>\n",
       "      <td>3207</td>\n",
       "    </tr>\n",
       "  </tbody>\n",
       "</table>\n",
       "</div>"
      ],
      "text/plain": [
       "     Restaurant_id   City                Cuisine Style  Ranking  Rating  \\\n",
       "7990      id_10021  Paris  [Japanese, Barbecue, Sushi]  10023.0     4.0   \n",
       "\n",
       "     Price Range  Number of Reviews  \\\n",
       "7990           $               21.0   \n",
       "\n",
       "                                                Reviews  \\\n",
       "7990  [['Incredible buffet!', 'Used to be great, but...   \n",
       "\n",
       "                                                 URL_TA    ID_TA  \\\n",
       "7990  /Restaurant_Review-g187147-d805046-Reviews-Yam...  d805046   \n",
       "\n",
       "      prise_range_key  quantity_cs type_cuisin date_ultimate_reviews  \\\n",
       "7990                1            3       other            2016-10-02   \n",
       "\n",
       "     date_penultimate_reviews  time_delta  \n",
       "7990               2007-12-22        3207  "
      ]
     },
     "metadata": {},
     "output_type": "display_data"
    }
   ],
   "source": [
    "display(df[df['time_delta'] == df['time_delta'].max()])"
   ]
  },
  {
   "cell_type": "code",
   "execution_count": 40,
   "metadata": {},
   "outputs": [
    {
     "data": {
      "text/plain": [
       "<matplotlib.axes._subplots.AxesSubplot at 0x7f4d18d05850>"
      ]
     },
     "execution_count": 40,
     "metadata": {},
     "output_type": "execute_result"
    },
    {
     "data": {
      "image/png": "[encoded data removed]",
      "text/plain": [
       "<Figure size 432x288 with 1 Axes>"
      ]
     },
     "metadata": {
      "needs_background": "light"
     },
     "output_type": "display_data"
    }
   ],
   "source": [
    "sns.boxplot(y = 'time_delta', data = df, saturation = 1, width = 0.5)"
   ]
  },
  {
   "cell_type": "code",
   "execution_count": 41,
   "metadata": {
    "scrolled": true
   },
   "outputs": [
    {
     "data": {
      "text/html": [
       "<div>\n",
       "<style scoped>\n",
       "    .dataframe tbody tr th:only-of-type {\n",
       "        vertical-align: middle;\n",
       "    }\n",
       "\n",
       "    .dataframe tbody tr th {\n",
       "        vertical-align: top;\n",
       "    }\n",
       "\n",
       "    .dataframe thead th {\n",
       "        text-align: right;\n",
       "    }\n",
       "</style>\n",
       "<table border=\"1\" class=\"dataframe\">\n",
       "  <thead>\n",
       "    <tr style=\"text-align: right;\">\n",
       "      <th></th>\n",
       "      <th>Restaurant_id</th>\n",
       "      <th>City</th>\n",
       "      <th>Cuisine Style</th>\n",
       "      <th>Ranking</th>\n",
       "      <th>Rating</th>\n",
       "      <th>Price Range</th>\n",
       "      <th>Number of Reviews</th>\n",
       "      <th>Reviews</th>\n",
       "      <th>URL_TA</th>\n",
       "      <th>ID_TA</th>\n",
       "      <th>prise_range_key</th>\n",
       "      <th>quantity_cs</th>\n",
       "      <th>type_cuisin</th>\n",
       "      <th>date_ultimate_reviews</th>\n",
       "      <th>date_penultimate_reviews</th>\n",
       "      <th>time_delta</th>\n",
       "    </tr>\n",
       "  </thead>\n",
       "  <tbody>\n",
       "    <tr>\n",
       "      <th>6</th>\n",
       "      <td>id_1720</td>\n",
       "      <td>Milan</td>\n",
       "      <td>[Italian, Pizza]</td>\n",
       "      <td>1722.0</td>\n",
       "      <td>4.0</td>\n",
       "      <td>$</td>\n",
       "      <td>50.0</td>\n",
       "      <td>[['Excellent simple local eatery.', 'Excellent...</td>\n",
       "      <td>/Restaurant_Review-g187849-d5808504-Reviews-Pi...</td>\n",
       "      <td>d5808504</td>\n",
       "      <td>1</td>\n",
       "      <td>2</td>\n",
       "      <td>Pizza,Italian</td>\n",
       "      <td>2017-08-04</td>\n",
       "      <td>2017-11-05</td>\n",
       "      <td>-93</td>\n",
       "    </tr>\n",
       "    <tr>\n",
       "      <th>43</th>\n",
       "      <td>id_9924</td>\n",
       "      <td>Paris</td>\n",
       "      <td>[Pub]</td>\n",
       "      <td>9926.0</td>\n",
       "      <td>3.5</td>\n",
       "      <td>$</td>\n",
       "      <td>39.0</td>\n",
       "      <td>[['English pub', 'Shameful'], ['02/14/2017', '...</td>\n",
       "      <td>/Restaurant_Review-g187147-d5799345-Reviews-Th...</td>\n",
       "      <td>d5799345</td>\n",
       "      <td>1</td>\n",
       "      <td>1</td>\n",
       "      <td>other</td>\n",
       "      <td>2017-02-14</td>\n",
       "      <td>2017-12-10</td>\n",
       "      <td>-299</td>\n",
       "    </tr>\n",
       "    <tr>\n",
       "      <th>48</th>\n",
       "      <td>id_2098</td>\n",
       "      <td>Barcelona</td>\n",
       "      <td>[Cafe, Mediterranean, Spanish, Vegetarian Frie...</td>\n",
       "      <td>2099.0</td>\n",
       "      <td>4.0</td>\n",
       "      <td>$</td>\n",
       "      <td>41.0</td>\n",
       "      <td>[['Excellent open air spot in Riberia Quarter'...</td>\n",
       "      <td>/Restaurant_Review-g187497-d7952588-Reviews-Me...</td>\n",
       "      <td>d7952588</td>\n",
       "      <td>1</td>\n",
       "      <td>4</td>\n",
       "      <td>Mediterranean,Vegetarian Friendly,Spanish,other</td>\n",
       "      <td>2017-06-05</td>\n",
       "      <td>2017-12-02</td>\n",
       "      <td>-180</td>\n",
       "    </tr>\n",
       "    <tr>\n",
       "      <th>142</th>\n",
       "      <td>id_14612</td>\n",
       "      <td>London</td>\n",
       "      <td>[No_name]</td>\n",
       "      <td>14623.0</td>\n",
       "      <td>3.0</td>\n",
       "      <td>0</td>\n",
       "      <td>39.0</td>\n",
       "      <td>[[\"Rock bar shame it hasn't realised it's not....</td>\n",
       "      <td>/Restaurant_Review-g186338-d7994738-Reviews-Sl...</td>\n",
       "      <td>d7994738</td>\n",
       "      <td>0</td>\n",
       "      <td>1</td>\n",
       "      <td>No_name</td>\n",
       "      <td>2017-04-30</td>\n",
       "      <td>2017-12-11</td>\n",
       "      <td>-225</td>\n",
       "    </tr>\n",
       "    <tr>\n",
       "      <th>177</th>\n",
       "      <td>id_13850</td>\n",
       "      <td>London</td>\n",
       "      <td>[Pizza, Italian, Vegetarian Friendly, Vegan Op...</td>\n",
       "      <td>13860.0</td>\n",
       "      <td>3.5</td>\n",
       "      <td>$$ - $$$</td>\n",
       "      <td>32.0</td>\n",
       "      <td>[['Great pizza', \"Don't bother\"], ['02/17/2017...</td>\n",
       "      <td>/Restaurant_Review-g186338-d7949523-Reviews-La...</td>\n",
       "      <td>d7949523</td>\n",
       "      <td>2</td>\n",
       "      <td>4</td>\n",
       "      <td>Pizza,Vegetarian Friendly,Vegan Options,Italian</td>\n",
       "      <td>2017-02-17</td>\n",
       "      <td>2017-09-19</td>\n",
       "      <td>-214</td>\n",
       "    </tr>\n",
       "  </tbody>\n",
       "</table>\n",
       "</div>"
      ],
      "text/plain": [
       "    Restaurant_id       City  \\\n",
       "6         id_1720      Milan   \n",
       "43        id_9924      Paris   \n",
       "48        id_2098  Barcelona   \n",
       "142      id_14612     London   \n",
       "177      id_13850     London   \n",
       "\n",
       "                                         Cuisine Style  Ranking  Rating  \\\n",
       "6                                     [Italian, Pizza]   1722.0     4.0   \n",
       "43                                               [Pub]   9926.0     3.5   \n",
       "48   [Cafe, Mediterranean, Spanish, Vegetarian Frie...   2099.0     4.0   \n",
       "142                                          [No_name]  14623.0     3.0   \n",
       "177  [Pizza, Italian, Vegetarian Friendly, Vegan Op...  13860.0     3.5   \n",
       "\n",
       "    Price Range  Number of Reviews  \\\n",
       "6             $               50.0   \n",
       "43            $               39.0   \n",
       "48            $               41.0   \n",
       "142           0               39.0   \n",
       "177    $$ - $$$               32.0   \n",
       "\n",
       "                                               Reviews  \\\n",
       "6    [['Excellent simple local eatery.', 'Excellent...   \n",
       "43   [['English pub', 'Shameful'], ['02/14/2017', '...   \n",
       "48   [['Excellent open air spot in Riberia Quarter'...   \n",
       "142  [[\"Rock bar shame it hasn't realised it's not....   \n",
       "177  [['Great pizza', \"Don't bother\"], ['02/17/2017...   \n",
       "\n",
       "                                                URL_TA     ID_TA  \\\n",
       "6    /Restaurant_Review-g187849-d5808504-Reviews-Pi...  d5808504   \n",
       "43   /Restaurant_Review-g187147-d5799345-Reviews-Th...  d5799345   \n",
       "48   /Restaurant_Review-g187497-d7952588-Reviews-Me...  d7952588   \n",
       "142  /Restaurant_Review-g186338-d7994738-Reviews-Sl...  d7994738   \n",
       "177  /Restaurant_Review-g186338-d7949523-Reviews-La...  d7949523   \n",
       "\n",
       "     prise_range_key  quantity_cs  \\\n",
       "6                  1            2   \n",
       "43                 1            1   \n",
       "48                 1            4   \n",
       "142                0            1   \n",
       "177                2            4   \n",
       "\n",
       "                                         type_cuisin date_ultimate_reviews  \\\n",
       "6                                      Pizza,Italian            2017-08-04   \n",
       "43                                             other            2017-02-14   \n",
       "48   Mediterranean,Vegetarian Friendly,Spanish,other            2017-06-05   \n",
       "142                                          No_name            2017-04-30   \n",
       "177  Pizza,Vegetarian Friendly,Vegan Options,Italian            2017-02-17   \n",
       "\n",
       "    date_penultimate_reviews  time_delta  \n",
       "6                 2017-11-05         -93  \n",
       "43                2017-12-10        -299  \n",
       "48                2017-12-02        -180  \n",
       "142               2017-12-11        -225  \n",
       "177               2017-09-19        -214  "
      ]
     },
     "execution_count": 41,
     "metadata": {},
     "output_type": "execute_result"
    }
   ],
   "source": [
    "df[df['time_delta'] < 0].head(5)"
   ]
  },
  {
   "cell_type": "markdown",
   "metadata": {},
   "source": [
    "Отрицательные значения говорят об ошибки ввода или о изменении последовательности введения даты. Возмем все отрицательные значения по модулю"
   ]
  },
  {
   "cell_type": "code",
   "execution_count": 42,
   "metadata": {},
   "outputs": [],
   "source": [
    "df['time_delta'] = df['time_delta'].apply(lambda x: -1 * x if x < 0 else x)"
   ]
  },
  {
   "cell_type": "code",
   "execution_count": 43,
   "metadata": {
    "scrolled": true
   },
   "outputs": [
    {
     "data": {
      "text/plain": [
       "<matplotlib.axes._subplots.AxesSubplot at 0x7f4d19498e90>"
      ]
     },
     "execution_count": 43,
     "metadata": {},
     "output_type": "execute_result"
    },
    {
     "data": {
      "image/png": "[encoded data removed]",
      "text/plain": [
       "<Figure size 432x288 with 1 Axes>"
      ]
     },
     "metadata": {
      "needs_background": "light"
     },
     "output_type": "display_data"
    }
   ],
   "source": [
    "sns.boxplot(y = 'time_delta', data = df, saturation = 1, width = 0.5)"
   ]
  },
  {
   "cell_type": "code",
   "execution_count": 44,
   "metadata": {},
   "outputs": [
    {
     "data": {
      "text/plain": [
       "26781   2018-02-26\n",
       "30334   2018-02-26\n",
       "12019   2018-02-26\n",
       "22263   2018-02-26\n",
       "22880   2018-02-26\n",
       "28928   2018-02-26\n",
       "37689   2018-02-26\n",
       "24797   2018-02-26\n",
       "7866    2018-02-26\n",
       "8135    2018-02-26\n",
       "15088   2018-02-26\n",
       "37663   2018-02-26\n",
       "4000    2018-02-26\n",
       "33662   2018-02-26\n",
       "5635    2018-02-26\n",
       "10600   2018-02-26\n",
       "18511   2018-02-26\n",
       "1592    2018-02-26\n",
       "25110   2018-02-26\n",
       "19050   2018-02-26\n",
       "Name: date_ultimate_reviews, dtype: datetime64[ns]"
      ]
     },
     "execution_count": 44,
     "metadata": {},
     "output_type": "execute_result"
    }
   ],
   "source": [
    "df['date_ultimate_reviews'].sort_values(ascending = False).head(20)"
   ]
  },
  {
   "cell_type": "markdown",
   "metadata": {},
   "source": []
  },
  {
   "cell_type": "markdown",
   "metadata": {},
   "source": [
    "Много значений признака delta_time выходят за значение верхнего квартиля. При этом дата последнего отзыва не выбивается из временного интервала. Может быть ошибка в ведении времени предыдущего отзыва. В данном случае значения не корректирую."
   ]
  },
  {
   "cell_type": "markdown",
   "metadata": {},
   "source": [
    "### Добавление признака: mean_ranking - средний ранг по городам, mean_cuisine - среднее количество кухонь по городам, mean_timedelta - среднее значение промежутка времени между оставленными отзывами"
   ]
  },
  {
   "cell_type": "code",
   "execution_count": 45,
   "metadata": {},
   "outputs": [
    {
     "data": {
      "text/plain": [
       "<matplotlib.axes._subplots.AxesSubplot at 0x7f4d17c6db90>"
      ]
     },
     "execution_count": 45,
     "metadata": {},
     "output_type": "execute_result"
    },
    {
     "data": {
      "image/png": "[encoded data removed]",
      "text/plain": [
       "<Figure size 432x288 with 1 Axes>"
      ]
     },
     "metadata": {
      "needs_background": "light"
     },
     "output_type": "display_data"
    }
   ],
   "source": [
    "sns.boxplot(y = 'Ranking', data = df, saturation = 1, width = 0.5)"
   ]
  },
  {
   "cell_type": "code",
   "execution_count": 46,
   "metadata": {},
   "outputs": [
    {
     "data": {
      "text/plain": [
       "16444.0"
      ]
     },
     "execution_count": 46,
     "metadata": {},
     "output_type": "execute_result"
    }
   ],
   "source": [
    "df['Ranking'].max()"
   ]
  },
  {
   "cell_type": "markdown",
   "metadata": {},
   "source": [
    "Ranking изменяется от 0 до 16444. За верхний межквартильный интервал попадает целая группа значений. Считаем, что в данном признаке выбросов нет."
   ]
  },
  {
   "cell_type": "code",
   "execution_count": 47,
   "metadata": {
    "scrolled": true
   },
   "outputs": [
    {
     "data": {
      "text/plain": [
       "{'Paris': 6933.012,\n",
       " 'Stockholm': 1242.387,\n",
       " 'London': 8198.462,\n",
       " 'Berlin': 3266.237,\n",
       " 'Munich': 1370.54,\n",
       " 'Oporto': 738.474,\n",
       " 'Milan': 3098.144,\n",
       " 'Bratislava': 453.113,\n",
       " 'Vienna': 1706.102,\n",
       " 'Rome': 2983.397,\n",
       " 'Barcelona': 3914.144,\n",
       " 'Madrid': 4388.423,\n",
       " 'Dublin': 983.725,\n",
       " 'Brussels': 1535.347,\n",
       " 'Zurich': 782.487,\n",
       " 'Warsaw': 1063.04,\n",
       " 'Budapest': 1220.811,\n",
       " 'Copenhagen': 974.7,\n",
       " 'Amsterdam': 1580.944,\n",
       " 'Lyon': 1307.559,\n",
       " 'Hamburg': 1355.14,\n",
       " 'Lisbon': 1877.126,\n",
       " 'Prague': 2077.387,\n",
       " 'Oslo': 568.288,\n",
       " 'Helsinki': 566.91,\n",
       " 'Edinburgh': 873.042,\n",
       " 'Geneva': 708.287,\n",
       " 'Ljubljana': 239.907,\n",
       " 'Athens': 881.108,\n",
       " 'Luxembourg': 313.719,\n",
       " 'Krakow': 614.553}"
      ]
     },
     "execution_count": 47,
     "metadata": {},
     "output_type": "execute_result"
    }
   ],
   "source": [
    "#создадим словарь с параметрами Key - город, values - среднее значение оценки\n",
    "mean_ranking_city = {}  \n",
    "for item in city:  # перебираем список городов\n",
    "    mean_ranking_city[item] = round(df[df['City'] == item]['Ranking'].mean(), 3)\n",
    "mean_ranking_city"
   ]
  },
  {
   "cell_type": "code",
   "execution_count": 48,
   "metadata": {},
   "outputs": [
    {
     "data": {
      "text/html": [
       "<div>\n",
       "<style scoped>\n",
       "    .dataframe tbody tr th:only-of-type {\n",
       "        vertical-align: middle;\n",
       "    }\n",
       "\n",
       "    .dataframe tbody tr th {\n",
       "        vertical-align: top;\n",
       "    }\n",
       "\n",
       "    .dataframe thead th {\n",
       "        text-align: right;\n",
       "    }\n",
       "</style>\n",
       "<table border=\"1\" class=\"dataframe\">\n",
       "  <thead>\n",
       "    <tr style=\"text-align: right;\">\n",
       "      <th></th>\n",
       "      <th>Restaurant_id</th>\n",
       "      <th>City</th>\n",
       "      <th>Cuisine Style</th>\n",
       "      <th>Ranking</th>\n",
       "      <th>Rating</th>\n",
       "      <th>Price Range</th>\n",
       "      <th>Number of Reviews</th>\n",
       "      <th>Reviews</th>\n",
       "      <th>URL_TA</th>\n",
       "      <th>ID_TA</th>\n",
       "      <th>prise_range_key</th>\n",
       "      <th>quantity_cs</th>\n",
       "      <th>type_cuisin</th>\n",
       "      <th>date_ultimate_reviews</th>\n",
       "      <th>date_penultimate_reviews</th>\n",
       "      <th>time_delta</th>\n",
       "      <th>mean_ranking</th>\n",
       "    </tr>\n",
       "  </thead>\n",
       "  <tbody>\n",
       "    <tr>\n",
       "      <th>0</th>\n",
       "      <td>id_5569</td>\n",
       "      <td>Paris</td>\n",
       "      <td>[European, French, International]</td>\n",
       "      <td>5570.0</td>\n",
       "      <td>3.5</td>\n",
       "      <td>$$ - $$$</td>\n",
       "      <td>194.0</td>\n",
       "      <td>[['Good food at your doorstep', 'A good hotel ...</td>\n",
       "      <td>/Restaurant_Review-g187147-d1912643-Reviews-R_...</td>\n",
       "      <td>d1912643</td>\n",
       "      <td>2</td>\n",
       "      <td>3</td>\n",
       "      <td>European,French,other</td>\n",
       "      <td>2017-12-31</td>\n",
       "      <td>2017-11-20</td>\n",
       "      <td>41</td>\n",
       "      <td>6933.012</td>\n",
       "    </tr>\n",
       "    <tr>\n",
       "      <th>1</th>\n",
       "      <td>id_1535</td>\n",
       "      <td>Stockholm</td>\n",
       "      <td>[No_name]</td>\n",
       "      <td>1537.0</td>\n",
       "      <td>4.0</td>\n",
       "      <td>0</td>\n",
       "      <td>10.0</td>\n",
       "      <td>[['Unique cuisine', 'Delicious Nepalese food']...</td>\n",
       "      <td>/Restaurant_Review-g189852-d7992032-Reviews-Bu...</td>\n",
       "      <td>d7992032</td>\n",
       "      <td>0</td>\n",
       "      <td>1</td>\n",
       "      <td>No_name</td>\n",
       "      <td>2017-07-06</td>\n",
       "      <td>2016-06-19</td>\n",
       "      <td>382</td>\n",
       "      <td>1242.387</td>\n",
       "    </tr>\n",
       "  </tbody>\n",
       "</table>\n",
       "</div>"
      ],
      "text/plain": [
       "  Restaurant_id       City                      Cuisine Style  Ranking  \\\n",
       "0       id_5569      Paris  [European, French, International]   5570.0   \n",
       "1       id_1535  Stockholm                          [No_name]   1537.0   \n",
       "\n",
       "   Rating Price Range  Number of Reviews  \\\n",
       "0     3.5    $$ - $$$              194.0   \n",
       "1     4.0           0               10.0   \n",
       "\n",
       "                                             Reviews  \\\n",
       "0  [['Good food at your doorstep', 'A good hotel ...   \n",
       "1  [['Unique cuisine', 'Delicious Nepalese food']...   \n",
       "\n",
       "                                              URL_TA     ID_TA  \\\n",
       "0  /Restaurant_Review-g187147-d1912643-Reviews-R_...  d1912643   \n",
       "1  /Restaurant_Review-g189852-d7992032-Reviews-Bu...  d7992032   \n",
       "\n",
       "   prise_range_key  quantity_cs            type_cuisin date_ultimate_reviews  \\\n",
       "0                2            3  European,French,other            2017-12-31   \n",
       "1                0            1                No_name            2017-07-06   \n",
       "\n",
       "  date_penultimate_reviews  time_delta  mean_ranking  \n",
       "0               2017-11-20          41      6933.012  \n",
       "1               2016-06-19         382      1242.387  "
      ]
     },
     "execution_count": 48,
     "metadata": {},
     "output_type": "execute_result"
    }
   ],
   "source": [
    "#Добавляем признак\n",
    "df['mean_ranking'] = df['City'].replace(to_replace = mean_ranking_city)\n",
    "df.head(2)"
   ]
  },
  {
   "cell_type": "code",
   "execution_count": 49,
   "metadata": {
    "scrolled": true
   },
   "outputs": [
    {
     "data": {
      "text/plain": [
       "{'Paris': 2.159,\n",
       " 'Stockholm': 2.505,\n",
       " 'London': 2.961,\n",
       " 'Berlin': 2.289,\n",
       " 'Munich': 2.458,\n",
       " 'Oporto': 2.729,\n",
       " 'Milan': 2.509,\n",
       " 'Bratislava': 2.252,\n",
       " 'Vienna': 2.756,\n",
       " 'Rome': 3.211,\n",
       " 'Barcelona': 2.65,\n",
       " 'Madrid': 2.087,\n",
       " 'Dublin': 3.287,\n",
       " 'Brussels': 2.497,\n",
       " 'Zurich': 3.006,\n",
       " 'Warsaw': 2.55,\n",
       " 'Budapest': 3.252,\n",
       " 'Copenhagen': 2.719,\n",
       " 'Amsterdam': 3.311,\n",
       " 'Lyon': 1.635,\n",
       " 'Hamburg': 1.937,\n",
       " 'Lisbon': 2.639,\n",
       " 'Prague': 2.836,\n",
       " 'Oslo': 3.036,\n",
       " 'Helsinki': 2.556,\n",
       " 'Edinburgh': 3.795,\n",
       " 'Geneva': 2.624,\n",
       " 'Ljubljana': 3.295,\n",
       " 'Athens': 2.592,\n",
       " 'Luxembourg': 2.681,\n",
       " 'Krakow': 3.178}"
      ]
     },
     "execution_count": 49,
     "metadata": {},
     "output_type": "execute_result"
    }
   ],
   "source": [
    "#создадим словарь с параметрами Key - город, values - среднее значение количества кухонь\n",
    "mean_cuisine_city = {}  \n",
    "for item in city:  # перебираем список городов\n",
    "    mean_cuisine_city[item] = round(df[df['City'] == item]['quantity_cs'].mean(), 3)\n",
    "mean_cuisine_city"
   ]
  },
  {
   "cell_type": "code",
   "execution_count": 50,
   "metadata": {
    "scrolled": true
   },
   "outputs": [
    {
     "data": {
      "text/html": [
       "<div>\n",
       "<style scoped>\n",
       "    .dataframe tbody tr th:only-of-type {\n",
       "        vertical-align: middle;\n",
       "    }\n",
       "\n",
       "    .dataframe tbody tr th {\n",
       "        vertical-align: top;\n",
       "    }\n",
       "\n",
       "    .dataframe thead th {\n",
       "        text-align: right;\n",
       "    }\n",
       "</style>\n",
       "<table border=\"1\" class=\"dataframe\">\n",
       "  <thead>\n",
       "    <tr style=\"text-align: right;\">\n",
       "      <th></th>\n",
       "      <th>Restaurant_id</th>\n",
       "      <th>City</th>\n",
       "      <th>Cuisine Style</th>\n",
       "      <th>Ranking</th>\n",
       "      <th>Rating</th>\n",
       "      <th>Price Range</th>\n",
       "      <th>Number of Reviews</th>\n",
       "      <th>Reviews</th>\n",
       "      <th>URL_TA</th>\n",
       "      <th>ID_TA</th>\n",
       "      <th>prise_range_key</th>\n",
       "      <th>quantity_cs</th>\n",
       "      <th>type_cuisin</th>\n",
       "      <th>date_ultimate_reviews</th>\n",
       "      <th>date_penultimate_reviews</th>\n",
       "      <th>time_delta</th>\n",
       "      <th>mean_ranking</th>\n",
       "      <th>mean_cuisin</th>\n",
       "    </tr>\n",
       "  </thead>\n",
       "  <tbody>\n",
       "    <tr>\n",
       "      <th>0</th>\n",
       "      <td>id_5569</td>\n",
       "      <td>Paris</td>\n",
       "      <td>[European, French, International]</td>\n",
       "      <td>5570.0</td>\n",
       "      <td>3.5</td>\n",
       "      <td>$$ - $$$</td>\n",
       "      <td>194.0</td>\n",
       "      <td>[['Good food at your doorstep', 'A good hotel ...</td>\n",
       "      <td>/Restaurant_Review-g187147-d1912643-Reviews-R_...</td>\n",
       "      <td>d1912643</td>\n",
       "      <td>2</td>\n",
       "      <td>3</td>\n",
       "      <td>European,French,other</td>\n",
       "      <td>2017-12-31</td>\n",
       "      <td>2017-11-20</td>\n",
       "      <td>41</td>\n",
       "      <td>6933.012</td>\n",
       "      <td>2.159</td>\n",
       "    </tr>\n",
       "    <tr>\n",
       "      <th>1</th>\n",
       "      <td>id_1535</td>\n",
       "      <td>Stockholm</td>\n",
       "      <td>[No_name]</td>\n",
       "      <td>1537.0</td>\n",
       "      <td>4.0</td>\n",
       "      <td>0</td>\n",
       "      <td>10.0</td>\n",
       "      <td>[['Unique cuisine', 'Delicious Nepalese food']...</td>\n",
       "      <td>/Restaurant_Review-g189852-d7992032-Reviews-Bu...</td>\n",
       "      <td>d7992032</td>\n",
       "      <td>0</td>\n",
       "      <td>1</td>\n",
       "      <td>No_name</td>\n",
       "      <td>2017-07-06</td>\n",
       "      <td>2016-06-19</td>\n",
       "      <td>382</td>\n",
       "      <td>1242.387</td>\n",
       "      <td>2.505</td>\n",
       "    </tr>\n",
       "  </tbody>\n",
       "</table>\n",
       "</div>"
      ],
      "text/plain": [
       "  Restaurant_id       City                      Cuisine Style  Ranking  \\\n",
       "0       id_5569      Paris  [European, French, International]   5570.0   \n",
       "1       id_1535  Stockholm                          [No_name]   1537.0   \n",
       "\n",
       "   Rating Price Range  Number of Reviews  \\\n",
       "0     3.5    $$ - $$$              194.0   \n",
       "1     4.0           0               10.0   \n",
       "\n",
       "                                             Reviews  \\\n",
       "0  [['Good food at your doorstep', 'A good hotel ...   \n",
       "1  [['Unique cuisine', 'Delicious Nepalese food']...   \n",
       "\n",
       "                                              URL_TA     ID_TA  \\\n",
       "0  /Restaurant_Review-g187147-d1912643-Reviews-R_...  d1912643   \n",
       "1  /Restaurant_Review-g189852-d7992032-Reviews-Bu...  d7992032   \n",
       "\n",
       "   prise_range_key  quantity_cs            type_cuisin date_ultimate_reviews  \\\n",
       "0                2            3  European,French,other            2017-12-31   \n",
       "1                0            1                No_name            2017-07-06   \n",
       "\n",
       "  date_penultimate_reviews  time_delta  mean_ranking  mean_cuisin  \n",
       "0               2017-11-20          41      6933.012        2.159  \n",
       "1               2016-06-19         382      1242.387        2.505  "
      ]
     },
     "execution_count": 50,
     "metadata": {},
     "output_type": "execute_result"
    }
   ],
   "source": [
    "df['mean_cuisin'] = df['City'].replace(to_replace = mean_cuisine_city)\n",
    "df.head(2)"
   ]
  },
  {
   "cell_type": "code",
   "execution_count": 51,
   "metadata": {
    "scrolled": true
   },
   "outputs": [
    {
     "data": {
      "text/plain": [
       "{'Paris': 119.633,\n",
       " 'Stockholm': 111.883,\n",
       " 'London': 91.303,\n",
       " 'Berlin': 122.805,\n",
       " 'Munich': 118.894,\n",
       " 'Oporto': 73.895,\n",
       " 'Milan': 103.565,\n",
       " 'Bratislava': 121.751,\n",
       " 'Vienna': 113.564,\n",
       " 'Rome': 93.923,\n",
       " 'Barcelona': 98.887,\n",
       " 'Madrid': 83.63,\n",
       " 'Dublin': 90.327,\n",
       " 'Brussels': 118.692,\n",
       " 'Zurich': 122.442,\n",
       " 'Warsaw': 101.006,\n",
       " 'Budapest': 98.032,\n",
       " 'Copenhagen': 94.871,\n",
       " 'Amsterdam': 76.276,\n",
       " 'Lyon': 98.852,\n",
       " 'Hamburg': 128.177,\n",
       " 'Lisbon': 96.593,\n",
       " 'Prague': 105.299,\n",
       " 'Oslo': 109.468,\n",
       " 'Helsinki': 126.747,\n",
       " 'Edinburgh': 64.341,\n",
       " 'Geneva': 115.757,\n",
       " 'Ljubljana': 130.831,\n",
       " 'Athens': 104.368,\n",
       " 'Luxembourg': 128.124,\n",
       " 'Krakow': 89.515}"
      ]
     },
     "execution_count": 51,
     "metadata": {},
     "output_type": "execute_result"
    }
   ],
   "source": [
    "#создадим словарь с параметрами Key - город, values - среднее значение разницы во времени между отзывами\n",
    "mean_timedelta_city = {}  \n",
    "for item in city:  # перебираем список городов\n",
    "    mean_timedelta_city[item] = round(df[df['City'] == item]['time_delta'].mean(), 3)\n",
    "mean_timedelta_city"
   ]
  },
  {
   "cell_type": "code",
   "execution_count": 52,
   "metadata": {},
   "outputs": [
    {
     "data": {
      "text/html": [
       "<div>\n",
       "<style scoped>\n",
       "    .dataframe tbody tr th:only-of-type {\n",
       "        vertical-align: middle;\n",
       "    }\n",
       "\n",
       "    .dataframe tbody tr th {\n",
       "        vertical-align: top;\n",
       "    }\n",
       "\n",
       "    .dataframe thead th {\n",
       "        text-align: right;\n",
       "    }\n",
       "</style>\n",
       "<table border=\"1\" class=\"dataframe\">\n",
       "  <thead>\n",
       "    <tr style=\"text-align: right;\">\n",
       "      <th></th>\n",
       "      <th>Restaurant_id</th>\n",
       "      <th>City</th>\n",
       "      <th>Cuisine Style</th>\n",
       "      <th>Ranking</th>\n",
       "      <th>Rating</th>\n",
       "      <th>Price Range</th>\n",
       "      <th>Number of Reviews</th>\n",
       "      <th>Reviews</th>\n",
       "      <th>URL_TA</th>\n",
       "      <th>ID_TA</th>\n",
       "      <th>prise_range_key</th>\n",
       "      <th>quantity_cs</th>\n",
       "      <th>type_cuisin</th>\n",
       "      <th>date_ultimate_reviews</th>\n",
       "      <th>date_penultimate_reviews</th>\n",
       "      <th>time_delta</th>\n",
       "      <th>mean_ranking</th>\n",
       "      <th>mean_cuisin</th>\n",
       "      <th>mean_timedelta</th>\n",
       "    </tr>\n",
       "  </thead>\n",
       "  <tbody>\n",
       "    <tr>\n",
       "      <th>0</th>\n",
       "      <td>id_5569</td>\n",
       "      <td>Paris</td>\n",
       "      <td>[European, French, International]</td>\n",
       "      <td>5570.0</td>\n",
       "      <td>3.5</td>\n",
       "      <td>$$ - $$$</td>\n",
       "      <td>194.0</td>\n",
       "      <td>[['Good food at your doorstep', 'A good hotel ...</td>\n",
       "      <td>/Restaurant_Review-g187147-d1912643-Reviews-R_...</td>\n",
       "      <td>d1912643</td>\n",
       "      <td>2</td>\n",
       "      <td>3</td>\n",
       "      <td>European,French,other</td>\n",
       "      <td>2017-12-31</td>\n",
       "      <td>2017-11-20</td>\n",
       "      <td>41</td>\n",
       "      <td>6933.012</td>\n",
       "      <td>2.159</td>\n",
       "      <td>119.633</td>\n",
       "    </tr>\n",
       "    <tr>\n",
       "      <th>1</th>\n",
       "      <td>id_1535</td>\n",
       "      <td>Stockholm</td>\n",
       "      <td>[No_name]</td>\n",
       "      <td>1537.0</td>\n",
       "      <td>4.0</td>\n",
       "      <td>0</td>\n",
       "      <td>10.0</td>\n",
       "      <td>[['Unique cuisine', 'Delicious Nepalese food']...</td>\n",
       "      <td>/Restaurant_Review-g189852-d7992032-Reviews-Bu...</td>\n",
       "      <td>d7992032</td>\n",
       "      <td>0</td>\n",
       "      <td>1</td>\n",
       "      <td>No_name</td>\n",
       "      <td>2017-07-06</td>\n",
       "      <td>2016-06-19</td>\n",
       "      <td>382</td>\n",
       "      <td>1242.387</td>\n",
       "      <td>2.505</td>\n",
       "      <td>111.883</td>\n",
       "    </tr>\n",
       "  </tbody>\n",
       "</table>\n",
       "</div>"
      ],
      "text/plain": [
       "  Restaurant_id       City                      Cuisine Style  Ranking  \\\n",
       "0       id_5569      Paris  [European, French, International]   5570.0   \n",
       "1       id_1535  Stockholm                          [No_name]   1537.0   \n",
       "\n",
       "   Rating Price Range  Number of Reviews  \\\n",
       "0     3.5    $$ - $$$              194.0   \n",
       "1     4.0           0               10.0   \n",
       "\n",
       "                                             Reviews  \\\n",
       "0  [['Good food at your doorstep', 'A good hotel ...   \n",
       "1  [['Unique cuisine', 'Delicious Nepalese food']...   \n",
       "\n",
       "                                              URL_TA     ID_TA  \\\n",
       "0  /Restaurant_Review-g187147-d1912643-Reviews-R_...  d1912643   \n",
       "1  /Restaurant_Review-g189852-d7992032-Reviews-Bu...  d7992032   \n",
       "\n",
       "   prise_range_key  quantity_cs            type_cuisin date_ultimate_reviews  \\\n",
       "0                2            3  European,French,other            2017-12-31   \n",
       "1                0            1                No_name            2017-07-06   \n",
       "\n",
       "  date_penultimate_reviews  time_delta  mean_ranking  mean_cuisin  \\\n",
       "0               2017-11-20          41      6933.012        2.159   \n",
       "1               2016-06-19         382      1242.387        2.505   \n",
       "\n",
       "   mean_timedelta  \n",
       "0         119.633  \n",
       "1         111.883  "
      ]
     },
     "execution_count": 52,
     "metadata": {},
     "output_type": "execute_result"
    }
   ],
   "source": [
    "df['mean_timedelta'] = df['City'].replace(to_replace = mean_timedelta_city)\n",
    "df.head(2)"
   ]
  },
  {
   "cell_type": "markdown",
   "metadata": {},
   "source": [
    "### Анализ пропущенных значений в столбце Price Range"
   ]
  },
  {
   "cell_type": "code",
   "execution_count": 53,
   "metadata": {},
   "outputs": [
    {
     "name": "stdout",
     "output_type": "stream",
     "text": [
      "4861.267967737289\n",
      "3553.3860487338748\n",
      "2955.9098414077775\n",
      "1968.8341531974702\n",
      "3676.028525\n"
     ]
    }
   ],
   "source": [
    "# анализ по столбцу prise_range_key\n",
    "print(df[df['prise_range_key'] == 0]['Ranking'].mean())\n",
    "print(df[df['prise_range_key'] == 1]['Ranking'].mean())\n",
    "print(df[df['prise_range_key'] == 2]['Ranking'].mean())\n",
    "print(df[df['prise_range_key'] == 3]['Ranking'].mean())\n",
    "print(df['Ranking'].mean())"
   ]
  },
  {
   "cell_type": "markdown",
   "metadata": {},
   "source": [
    "Среднее значение Ranking при prise_range_key = 0 превышает величину средниго значения для остальных категорий"
   ]
  },
  {
   "cell_type": "code",
   "execution_count": 54,
   "metadata": {},
   "outputs": [],
   "source": [
    "city_pass_price_unique = list(df[df['prise_range_key'] == 0]['City'].unique())\n",
    "city_pass_price = list(df[df['prise_range_key'] == 0]['City'])"
   ]
  },
  {
   "cell_type": "markdown",
   "metadata": {},
   "source": [
    "пропущенные значения присутствуют во всех городах"
   ]
  },
  {
   "cell_type": "code",
   "execution_count": 55,
   "metadata": {
    "scrolled": true
   },
   "outputs": [
    {
     "data": {
      "text/plain": [
       "{'Stockholm': 380,\n",
       " 'Berlin': 1009,\n",
       " 'Oporto': 158,\n",
       " 'Bratislava': 161,\n",
       " 'Vienna': 454,\n",
       " 'Barcelona': 936,\n",
       " 'Madrid': 1370,\n",
       " 'Budapest': 257,\n",
       " 'Paris': 1579,\n",
       " 'Copenhagen': 227,\n",
       " 'Lyon': 421,\n",
       " 'Milan': 851,\n",
       " 'Lisbon': 440,\n",
       " 'London': 1610,\n",
       " 'Warsaw': 289,\n",
       " 'Dublin': 167,\n",
       " 'Helsinki': 131,\n",
       " 'Amsterdam': 248,\n",
       " 'Brussels': 373,\n",
       " 'Prague': 555,\n",
       " 'Rome': 427,\n",
       " 'Hamburg': 517,\n",
       " 'Athens': 198,\n",
       " 'Oslo': 120,\n",
       " 'Luxembourg': 62,\n",
       " 'Zurich': 164,\n",
       " 'Munich': 329,\n",
       " 'Geneva': 156,\n",
       " 'Krakow': 139,\n",
       " 'Ljubljana': 55,\n",
       " 'Edinburgh': 103}"
      ]
     },
     "execution_count": 55,
     "metadata": {},
     "output_type": "execute_result"
    }
   ],
   "source": [
    "#Распределение пропусков по городам\n",
    "pass_price_range = {}  \n",
    "for item in city_pass_price_unique: \n",
    "    pass_price_range[item] = 0  \n",
    "for item in city_pass_price:   \n",
    "    pass_price_range[item] += 1   # увеличиваем значение нужного ключа в словаре на 1\n",
    "pass_price_range"
   ]
  },
  {
   "cell_type": "code",
   "execution_count": 56,
   "metadata": {},
   "outputs": [
    {
     "data": {
      "text/plain": [
       "{'Stockholm': 2,\n",
       " 'Berlin': 2,\n",
       " 'Oporto': 2,\n",
       " 'Bratislava': 2,\n",
       " 'Vienna': 2,\n",
       " 'Barcelona': 2,\n",
       " 'Madrid': 2,\n",
       " 'Budapest': 2,\n",
       " 'Paris': 2,\n",
       " 'Copenhagen': 2,\n",
       " 'Lyon': 2,\n",
       " 'Milan': 2,\n",
       " 'Lisbon': 2,\n",
       " 'London': 2,\n",
       " 'Warsaw': 2,\n",
       " 'Dublin': 2,\n",
       " 'Helsinki': 2,\n",
       " 'Amsterdam': 2,\n",
       " 'Brussels': 2,\n",
       " 'Prague': 2,\n",
       " 'Rome': 2,\n",
       " 'Hamburg': 2,\n",
       " 'Athens': 2,\n",
       " 'Oslo': 2,\n",
       " 'Luxembourg': 2,\n",
       " 'Zurich': 2,\n",
       " 'Munich': 2,\n",
       " 'Geneva': 2,\n",
       " 'Krakow': 2,\n",
       " 'Ljubljana': 2,\n",
       " 'Edinburgh': 2}"
      ]
     },
     "execution_count": 56,
     "metadata": {},
     "output_type": "execute_result"
    }
   ],
   "source": [
    "#рассмотрим часто встречающиеся значения в prise_range_key по городам\n",
    "pass_price_mode = {}\n",
    "for item in city_pass_price_unique: \n",
    "    pass_price_range[item] = int(df[(df['City'] == item) & (df['prise_range_key'] != 0)]['prise_range_key'].mode())\n",
    "pass_price_range"
   ]
  },
  {
   "cell_type": "markdown",
   "metadata": {},
   "source": [
    "Во всех городах наиболее часто встречаются рестораны со средним уровнем цен. Заменим пропуски в соответствии с кодировкой $$-$$$ - 2"
   ]
  },
  {
   "cell_type": "code",
   "execution_count": 57,
   "metadata": {},
   "outputs": [
    {
     "data": {
      "text/plain": [
       "array([2, 3, 1])"
      ]
     },
     "execution_count": 57,
     "metadata": {},
     "output_type": "execute_result"
    }
   ],
   "source": [
    "df['prise_range_key'] = df['prise_range_key'].apply(lambda x: 2 if x == 0 else x)\n",
    "df['prise_range_key'].unique()"
   ]
  },
  {
   "cell_type": "markdown",
   "metadata": {},
   "source": [
    "### Таблица для обучения модени"
   ]
  },
  {
   "cell_type": "code",
   "execution_count": 58,
   "metadata": {},
   "outputs": [],
   "source": [
    "df['Number of Reviews'] = df['Number of Reviews'].fillna(df['Number of Reviews'].mean())"
   ]
  },
  {
   "cell_type": "code",
   "execution_count": 59,
   "metadata": {},
   "outputs": [],
   "source": [
    "df_study = df[['Restaurant_id','Ranking','Rating', 'Number of Reviews','prise_range_key','quantity_cs','time_delta',\\\n",
    "              'mean_ranking', 'mean_cuisin', 'mean_timedelta']]"
   ]
  },
  {
   "cell_type": "code",
   "execution_count": 60,
   "metadata": {
    "scrolled": true
   },
   "outputs": [
    {
     "name": "stdout",
     "output_type": "stream",
     "text": [
      "<class 'pandas.core.frame.DataFrame'>\n",
      "RangeIndex: 40000 entries, 0 to 39999\n",
      "Data columns (total 10 columns):\n",
      " #   Column             Non-Null Count  Dtype  \n",
      "---  ------             --------------  -----  \n",
      " 0   Restaurant_id      40000 non-null  object \n",
      " 1   Ranking            40000 non-null  float64\n",
      " 2   Rating             40000 non-null  float64\n",
      " 3   Number of Reviews  40000 non-null  float64\n",
      " 4   prise_range_key    40000 non-null  int64  \n",
      " 5   quantity_cs        40000 non-null  int64  \n",
      " 6   time_delta         40000 non-null  int64  \n",
      " 7   mean_ranking       40000 non-null  float64\n",
      " 8   mean_cuisin        40000 non-null  float64\n",
      " 9   mean_timedelta     40000 non-null  float64\n",
      "dtypes: float64(6), int64(3), object(1)\n",
      "memory usage: 3.1+ MB\n"
     ]
    }
   ],
   "source": [
    "df_study.info()"
   ]
  },
  {
   "cell_type": "code",
   "execution_count": 61,
   "metadata": {},
   "outputs": [
    {
     "name": "stdout",
     "output_type": "stream",
     "text": [
      "<class 'pandas.core.frame.DataFrame'>\n",
      "RangeIndex: 40000 entries, 0 to 39999\n",
      "Data columns (total 23 columns):\n",
      " #   Column               Non-Null Count  Dtype  \n",
      "---  ------               --------------  -----  \n",
      " 0   Restaurant_id        40000 non-null  object \n",
      " 1   Ranking              40000 non-null  float64\n",
      " 2   Rating               40000 non-null  float64\n",
      " 3   Number of Reviews    40000 non-null  float64\n",
      " 4   prise_range_key      40000 non-null  int64  \n",
      " 5   quantity_cs          40000 non-null  int64  \n",
      " 6   time_delta           40000 non-null  int64  \n",
      " 7   mean_ranking         40000 non-null  float64\n",
      " 8   mean_cuisin          40000 non-null  float64\n",
      " 9   mean_timedelta       40000 non-null  float64\n",
      " 10  Asian                40000 non-null  int64  \n",
      " 11  Bar                  40000 non-null  int64  \n",
      " 12  European             40000 non-null  int64  \n",
      " 13  French               40000 non-null  int64  \n",
      " 14  Gluten Free Options  40000 non-null  int64  \n",
      " 15  Italian              40000 non-null  int64  \n",
      " 16  Mediterranean        40000 non-null  int64  \n",
      " 17  No_name              40000 non-null  int64  \n",
      " 18  Pizza                40000 non-null  int64  \n",
      " 19  Spanish              40000 non-null  int64  \n",
      " 20  Vegan Options        40000 non-null  int64  \n",
      " 21  Vegetarian Friendly  40000 non-null  int64  \n",
      " 22  other                40000 non-null  int64  \n",
      "dtypes: float64(6), int64(16), object(1)\n",
      "memory usage: 7.0+ MB\n"
     ]
    }
   ],
   "source": [
    "df_study_dummy = pd.concat([df_study, df_dummies],axis=1)\n",
    "df_study_dummy.info()"
   ]
  },
  {
   "cell_type": "markdown",
   "metadata": {},
   "source": [
    "# Разбиваем датафрейм на части, необходимые для обучения и тестирования модели"
   ]
  },
  {
   "cell_type": "code",
   "execution_count": 62,
   "metadata": {},
   "outputs": [],
   "source": [
    "# Х - данные с информацией о ресторанах, у - целевая переменная (рейтинги ресторанов)\n",
    "X = df_study_dummy.drop(['Restaurant_id', 'Rating','time_delta'], axis = 1)\n",
    "y = df_study_dummy['Rating']"
   ]
  },
  {
   "cell_type": "code",
   "execution_count": 63,
   "metadata": {},
   "outputs": [],
   "source": [
    "# Загружаем специальный инструмент для разбивки:\n",
    "from sklearn.model_selection import train_test_split"
   ]
  },
  {
   "cell_type": "code",
   "execution_count": 64,
   "metadata": {},
   "outputs": [],
   "source": [
    "# Наборы данных с меткой \"train\" будут использоваться для обучения модели, \"test\" - для тестирования.\n",
    "# Для тестирования мы будем использовать 25% от исходного датасета.\n",
    "X_train, X_test, y_train, y_test = train_test_split(X, y, test_size=0.25)"
   ]
  },
  {
   "cell_type": "markdown",
   "metadata": {},
   "source": [
    "# Создаём, обучаем и тестируем модель"
   ]
  },
  {
   "cell_type": "code",
   "execution_count": 65,
   "metadata": {},
   "outputs": [],
   "source": [
    "# Импортируем необходимые библиотеки:\n",
    "from sklearn.ensemble import RandomForestRegressor # инструмент для создания и обучения модели\n",
    "from sklearn import metrics # инструменты для оценки точности модели"
   ]
  },
  {
   "cell_type": "code",
   "execution_count": 66,
   "metadata": {},
   "outputs": [],
   "source": [
    "# Создаём модель\n",
    "regr = RandomForestRegressor(n_estimators=100)\n",
    "\n",
    "# Обучаем модель на тестовом наборе данных\n",
    "regr.fit(X_train, y_train)\n",
    "\n",
    "# Используем обученную модель для предсказания рейтинга ресторанов в тестовой выборке.\n",
    "# Предсказанные значения записываем в переменную y_pred\n",
    "y_pred = regr.predict(X_test)"
   ]
  },
  {
   "cell_type": "code",
   "execution_count": 67,
   "metadata": {},
   "outputs": [
    {
     "name": "stdout",
     "output_type": "stream",
     "text": [
      "MAE: 0.21381699999999995\n"
     ]
    }
   ],
   "source": [
    "# Сравниваем предсказанные значения (y_pred) с реальными (y_test), и смотрим насколько они в среднем отличаются\n",
    "# Метрика называется Mean Absolute Error (MAE) и показывает среднее отклонение предсказанных значений от фактических.\n",
    "print('MAE:', metrics.mean_absolute_error(y_test, y_pred))"
   ]
  }
 ],
 "metadata": {
  "kernelspec": {
   "display_name": "Python 3",
   "language": "python",
   "name": "python3"
  },
  "language_info": {
   "codemirror_mode": {
    "name": "ipython",
    "version": 3
   },
   "file_extension": ".py",
   "mimetype": "text/x-python",
   "name": "python",
   "nbconvert_exporter": "python",
   "pygments_lexer": "ipython3",
   "version": "3.7.6"
  }
 },
 "nbformat": 4,
 "nbformat_minor": 2
}
