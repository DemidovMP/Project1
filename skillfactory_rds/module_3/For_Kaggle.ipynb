{
 "cells": [
  {
   "cell_type": "code",
   "execution_count": 1,
   "metadata": {},
   "outputs": [],
   "source": [
    "import pandas as pd\n",
    "import numpy as np\n",
    "import re\n",
    "import math\n",
    "import collections\n",
    "from datetime import datetime, date, timedelta\n",
    "import matplotlib.pyplot as plt\n",
    "import seaborn as sns\n",
    "import warnings;warnings.simplefilter('ignore')\n",
    "%matplotlib inline"
   ]
  },
  {
   "cell_type": "code",
   "execution_count": 2,
   "metadata": {},
   "outputs": [],
   "source": [
    "data = pd.read_csv('main_task.csv')"
   ]
  },
  {
   "cell_type": "code",
   "execution_count": 3,
   "metadata": {},
   "outputs": [],
   "source": [
    "#Функция для получения списка в столбце\n",
    "def list_for_object (variable):\n",
    "    result = []\n",
    "    pattern = re.compile('\\dd\\s\\dd')\n",
    "    if type(variable) == str:\n",
    "        list_work = re.sub('\\s\\'|\\'','', variable).split(',')\n",
    "        for i in list_work:\n",
    "            var = re.sub('\\]','', i)\n",
    "            var_2 = re.sub('\\[','', var)\n",
    "            var_3 = var_2.lstrip(' ')\n",
    "            result.append(var_3)\n",
    "    else: result.append('No_name')\n",
    "    return result"
   ]
  },
  {
   "cell_type": "code",
   "execution_count": 4,
   "metadata": {},
   "outputs": [],
   "source": [
    "#функция получения уникальных переменных\n",
    "def unique_variable(series_data):\n",
    "    un_var = set() #пустое множество для хранения уникальных значений\n",
    "    for i in series_data:\n",
    "        if type(i) == list:\n",
    "            for j in i:\n",
    "                un_var.add(j)\n",
    "        else: un_var.add(i)\n",
    "    return un_var"
   ]
  },
  {
   "cell_type": "code",
   "execution_count": 5,
   "metadata": {},
   "outputs": [],
   "source": [
    "#функция для определения распределения уникальных значений\n",
    "def quantity_un_var(series_data):\n",
    "    quantity_variable = {} #словарь для хранения информации\n",
    "    for item in unique_variable(series_data):  # перебираем список кухонь\n",
    "        quantity_variable[item] = 0 # добавляем в словарь ключ, соответствующий очередной кухне\n",
    "    for i in series_data:\n",
    "        if type(i) == list:\n",
    "            for item in i:   \n",
    "                quantity_variable[item] += 1\n",
    "        else: quantity_variable[i] += 1\n",
    "    return quantity_variable"
   ]
  },
  {
   "cell_type": "code",
   "execution_count": 6,
   "metadata": {},
   "outputs": [],
   "source": [
    "#функция выбора top данных (90% значению по количеству)\n",
    "def top_data (series_data):\n",
    "    #создаем Data Frame для удобства сортировки\n",
    "    df_quantity_var = pd.DataFrame(data = [quantity_un_var(series_data)])\n",
    "    df_quantity_var = df_quantity_var.transpose()\n",
    "    df_quantity_var = df_quantity_var.sort_values(by = 0, ascending = False)\n",
    "    df_quantity_var_freqs = list(df_quantity_var[0])\n",
    "    top_quantity_value = int(np.percentile(df_quantity_var_freqs, 90))\n",
    "    top_var_list = df_quantity_var[df_quantity_var[0] > top_quantity_value]\n",
    "    index_all_var = df_quantity_var.index\n",
    "    top_var = list(index_all_var)[:len(top_var_list)-1]\n",
    "    return top_var"
   ]
  },
  {
   "cell_type": "code",
   "execution_count": 7,
   "metadata": {},
   "outputs": [],
   "source": [
    "#Функция сбора top данных в строку\n",
    "def list_for_str (series_data, top_variable):\n",
    "    s = set()\n",
    "    for i in series_data:\n",
    "        if i in top_variable:\n",
    "            s.add(i)\n",
    "        else: s.add('other')\n",
    "    s = list(s)\n",
    "    result = s[0]\n",
    "    for j in range(1,len(s)):\n",
    "        result += ','+s[j]\n",
    "    return result"
   ]
  },
  {
   "cell_type": "code",
   "execution_count": 36,
   "metadata": {},
   "outputs": [],
   "source": [
    "def preproc_data(df_input):\n",
    "    '''includes several functions to pre-process the predictor data.'''\n",
    "    \n",
    "    df_output = df_input.copy()\n",
    "    \n",
    "    # ################### 1. Предобработка ############################################################## \n",
    "    # убираем не нужные для модели признаки\n",
    "    df_output.drop(['Restaurant_id','ID_TA',], axis = 1, inplace=True)\n",
    "    \n",
    "    \n",
    "    # ################### 2. NAN ############################################################## \n",
    "    # Далее заполняем пропуски, вы можете попробовать заполнением средним или средним по городу и тд...\n",
    "    df_output['Number of Reviews'].fillna(df_output['Number of Reviews'].mean(), inplace=True)\n",
    "    df_output['Price Range'] = df_output['Price Range'].fillna(0)\n",
    "    df_output['Cuisine Style'] = df_output['Cuisine Style'].apply(list_for_object)\n",
    "    df_output['Reviews'] = df_output['Reviews'].fillna('0')\n",
    "    \n",
    "    \n",
    "    # ################### 3. Encoding ############################################################## \n",
    "    # для One-Hot Encoding в pandas есть готовая функция - get_dummies. Особенно радует параметр dummy_na\n",
    "    #df_dummies_city = pd.get_dummies(df_output, columns=[ 'City',], dummy_na=True)\n",
    "    df_dummies_city = df_output['City'].str.get_dummies()\n",
    "    df_output = pd.concat([df_output, df_dummies_city],axis=1)\n",
    "    \n",
    "    \n",
    "    \n",
    "   \n",
    "    # тут ваш код не Encoding фитчей\n",
    "    #dummy-переменная столбца Cuisine style\n",
    "    top_cuisin = top_data(df_output['Cuisine Style'])\n",
    "    df_output['cuisin_dummy'] = df_output['Cuisine Style'].apply(lambda x: list_for_str(x, top_cuisin))\n",
    "    df_dummies_cuisin = df_output['cuisin_dummy'].str.get_dummies(',')\n",
    "    df_output = pd.concat([df_output, df_dummies_cuisin],axis=1)\n",
    "    \n",
    "    \n",
    "    # ################### 4. Feature Engineering ####################################################\n",
    "    # тут ваш код не генерацию новых фитчей\n",
    "    ### Создаем признак - количество кухонь в рестаране\n",
    "    df_output['quantity_cs'] = df_output['Cuisine Style'].apply(lambda x: len(x))\n",
    "    #Столбец Reviews\n",
    "    pattern = re.compile('\\d\\d/\\d\\d/\\d{4}')\n",
    "    df_output['date_ultimate_reviews'] = df_output['Reviews'].apply(lambda x : pd.to_datetime(re.findall(pattern, x)[0]) if len(re.findall(pattern, x)) >= 1 else None) \n",
    "    df_output['date_penultimate_reviews'] = df_output['Reviews'].apply(lambda x : pd.to_datetime(re.findall(pattern, x)[1]) if len(re.findall(pattern, x)) == 2 else None)\n",
    "    df_output['time_delta'] = (df_output['date_ultimate_reviews'] - df_output['date_penultimate_reviews'])\n",
    "    df_output['time_delta'] = df_output['time_delta'].apply(lambda x: int(str(x)[:-14]) if len(str(x)) > 5 else 0)\n",
    "    df_output['time_delta'] = df_output['time_delta'].apply(lambda x: -1 * x if x < 0 else x)\n",
    "    df_output = df_output.drop(['date_ultimate_reviews', 'date_penultimate_reviews'], axis = 1)\n",
    "    #Столбец Price Range\n",
    "    df_output['Price Range'] = df_output['Price Range'].apply(lambda x: 2 if x == 0 else x)\n",
    "    #Добавление признака: mean_ranking - средний ранг по городам, mean_cuisine - среднее количество кухонь по \n",
    "    #городам, mean_timedelta - среднее значение промежутка времени между оставленными отзывами\n",
    "    city = df_output['City'].unique()\n",
    "    mean_ranking_city = {}  \n",
    "    for item in city:  # перебираем список городов\n",
    "        mean_ranking_city[item] = round(df_output[df_output['City'] == item]['Ranking'].mean(), 3)\n",
    "    df_output['mean_ranking'] = df_output['City'].replace(to_replace = mean_ranking_city)\n",
    "    \n",
    "    mean_cuisine_city = {}  \n",
    "    for item in city:  # перебираем список городов\n",
    "        mean_cuisine_city[item] = round(df_output[df_output['City'] == item]['quantity_cs'].mean(), 3)\n",
    "    df_output['mean_cuisin'] = df_output['City'].replace(to_replace = mean_cuisine_city)\n",
    "    \n",
    "    mean_timedelta_city = {}  \n",
    "    for item in city:  # перебираем список городов\n",
    "        mean_timedelta_city[item] = round(df_output[df_output['City'] == item]['time_delta'].mean(), 3)\n",
    "    df_output['mean_timedelta'] = df_output['City'].replace(to_replace = mean_timedelta_city)\n",
    "    \n",
    "    \n",
    "    # ################### 5. Clean #################################################### \n",
    "    # убираем признаки которые еще не успели обработать, \n",
    "    # модель на признаках с dtypes \"object\" обучаться не будет, просто выберим их и удалим\n",
    "    object_columns = [s for s in df_output.columns if df_output[s].dtypes == 'object']\n",
    "    df_output.drop(object_columns, axis = 1, inplace=True)\n",
    "    \n",
    "    return df_output"
   ]
  },
  {
   "cell_type": "code",
   "execution_count": 37,
   "metadata": {},
   "outputs": [],
   "source": [
    "df_2 = preproc_data(data)"
   ]
  },
  {
   "cell_type": "code",
   "execution_count": 38,
   "metadata": {},
   "outputs": [
    {
     "name": "stdout",
     "output_type": "stream",
     "text": [
      "<class 'pandas.core.frame.DataFrame'>\n",
      "RangeIndex: 40000 entries, 0 to 39999\n",
      "Data columns (total 52 columns):\n",
      " #   Column               Non-Null Count  Dtype  \n",
      "---  ------               --------------  -----  \n",
      " 0   Ranking              40000 non-null  float64\n",
      " 1   Rating               40000 non-null  float64\n",
      " 2   Number of Reviews    40000 non-null  float64\n",
      " 3   Amsterdam            40000 non-null  int64  \n",
      " 4   Athens               40000 non-null  int64  \n",
      " 5   Barcelona            40000 non-null  int64  \n",
      " 6   Berlin               40000 non-null  int64  \n",
      " 7   Bratislava           40000 non-null  int64  \n",
      " 8   Brussels             40000 non-null  int64  \n",
      " 9   Budapest             40000 non-null  int64  \n",
      " 10  Copenhagen           40000 non-null  int64  \n",
      " 11  Dublin               40000 non-null  int64  \n",
      " 12  Edinburgh            40000 non-null  int64  \n",
      " 13  Geneva               40000 non-null  int64  \n",
      " 14  Hamburg              40000 non-null  int64  \n",
      " 15  Helsinki             40000 non-null  int64  \n",
      " 16  Krakow               40000 non-null  int64  \n",
      " 17  Lisbon               40000 non-null  int64  \n",
      " 18  Ljubljana            40000 non-null  int64  \n",
      " 19  London               40000 non-null  int64  \n",
      " 20  Luxembourg           40000 non-null  int64  \n",
      " 21  Lyon                 40000 non-null  int64  \n",
      " 22  Madrid               40000 non-null  int64  \n",
      " 23  Milan                40000 non-null  int64  \n",
      " 24  Munich               40000 non-null  int64  \n",
      " 25  Oporto               40000 non-null  int64  \n",
      " 26  Oslo                 40000 non-null  int64  \n",
      " 27  Paris                40000 non-null  int64  \n",
      " 28  Prague               40000 non-null  int64  \n",
      " 29  Rome                 40000 non-null  int64  \n",
      " 30  Stockholm            40000 non-null  int64  \n",
      " 31  Vienna               40000 non-null  int64  \n",
      " 32  Warsaw               40000 non-null  int64  \n",
      " 33  Zurich               40000 non-null  int64  \n",
      " 34  Asian                40000 non-null  int64  \n",
      " 35  Bar                  40000 non-null  int64  \n",
      " 36  European             40000 non-null  int64  \n",
      " 37  French               40000 non-null  int64  \n",
      " 38  Gluten Free Options  40000 non-null  int64  \n",
      " 39  Italian              40000 non-null  int64  \n",
      " 40  Mediterranean        40000 non-null  int64  \n",
      " 41  No_name              40000 non-null  int64  \n",
      " 42  Pizza                40000 non-null  int64  \n",
      " 43  Spanish              40000 non-null  int64  \n",
      " 44  Vegan Options        40000 non-null  int64  \n",
      " 45  Vegetarian Friendly  40000 non-null  int64  \n",
      " 46  other                40000 non-null  int64  \n",
      " 47  quantity_cs          40000 non-null  int64  \n",
      " 48  time_delta           40000 non-null  int64  \n",
      " 49  mean_ranking         40000 non-null  float64\n",
      " 50  mean_cuisin          40000 non-null  float64\n",
      " 51  mean_timedelta       40000 non-null  float64\n",
      "dtypes: float64(6), int64(46)\n",
      "memory usage: 15.9 MB\n",
      "None\n"
     ]
    }
   ],
   "source": [
    "print(df_2.info())"
   ]
  },
  {
   "cell_type": "code",
   "execution_count": null,
   "metadata": {
    "scrolled": true
   },
   "outputs": [],
   "source": [
    "#df_2['quantity_cs'] = df_2['Cuisine Style'].apply(lambda x: len(x))"
   ]
  },
  {
   "cell_type": "code",
   "execution_count": null,
   "metadata": {},
   "outputs": [],
   "source": [
    "#for i in df_2['Cuisine Style']:\n",
    "    #print(i)"
   ]
  },
  {
   "cell_type": "code",
   "execution_count": null,
   "metadata": {
    "scrolled": true
   },
   "outputs": [],
   "source": [
    "#type(df_2['Cuisine Style'][0])"
   ]
  },
  {
   "cell_type": "code",
   "execution_count": null,
   "metadata": {},
   "outputs": [],
   "source": [
    "#print(unique_variable(df_2['Price Range']))"
   ]
  },
  {
   "cell_type": "code",
   "execution_count": null,
   "metadata": {},
   "outputs": [],
   "source": [
    "#print(quantity_un_var(df_2['Price Range']))"
   ]
  },
  {
   "cell_type": "code",
   "execution_count": null,
   "metadata": {},
   "outputs": [],
   "source": [
    "#top_cuisin = top_data(df_2['Cuisine Style'])\n",
    "#top_cuisin"
   ]
  },
  {
   "cell_type": "code",
   "execution_count": 39,
   "metadata": {},
   "outputs": [],
   "source": [
    "X = df_2.drop(['Rating'], axis = 1)\n",
    "y = df_2['Rating']"
   ]
  },
  {
   "cell_type": "code",
   "execution_count": 40,
   "metadata": {},
   "outputs": [],
   "source": [
    "# Загружаем специальный инструмент для разбивки:\n",
    "from sklearn.model_selection import train_test_split"
   ]
  },
  {
   "cell_type": "code",
   "execution_count": 41,
   "metadata": {},
   "outputs": [],
   "source": [
    "# Наборы данных с меткой \"train\" будут использоваться для обучения модели, \"test\" - для тестирования.\n",
    "# Для тестирования мы будем использовать 25% от исходного датасета.\n",
    "X_train, X_test, y_train, y_test = train_test_split(X, y, test_size=0.25)"
   ]
  },
  {
   "cell_type": "code",
   "execution_count": 42,
   "metadata": {},
   "outputs": [],
   "source": [
    "# Импортируем необходимые библиотеки:\n",
    "from sklearn.ensemble import RandomForestRegressor # инструмент для создания и обучения модели\n",
    "from sklearn import metrics # инструменты для оценки точности модели"
   ]
  },
  {
   "cell_type": "code",
   "execution_count": 43,
   "metadata": {},
   "outputs": [],
   "source": [
    "# Создаём модель\n",
    "regr = RandomForestRegressor(n_estimators=100)\n",
    "\n",
    "# Обучаем модель на тестовом наборе данных\n",
    "regr.fit(X_train, y_train)\n",
    "\n",
    "# Используем обученную модель для предсказания рейтинга ресторанов в тестовой выборке.\n",
    "# Предсказанные значения записываем в переменную y_pred\n",
    "y_pred = regr.predict(X_test)"
   ]
  },
  {
   "cell_type": "code",
   "execution_count": 44,
   "metadata": {},
   "outputs": [
    {
     "name": "stdout",
     "output_type": "stream",
     "text": [
      "MAE: 0.2085335\n"
     ]
    }
   ],
   "source": [
    "# Сравниваем предсказанные значения (y_pred) с реальными (y_test), и смотрим насколько они в среднем отличаются\n",
    "# Метрика называется Mean Absolute Error (MAE) и показывает среднее отклонение предсказанных значений от фактических.\n",
    "print('MAE:', metrics.mean_absolute_error(y_test, y_pred))"
   ]
  }
 ],
 "metadata": {
  "kernelspec": {
   "display_name": "Python 3",
   "language": "python",
   "name": "python3"
  },
  "language_info": {
   "codemirror_mode": {
    "name": "ipython",
    "version": 3
   },
   "file_extension": ".py",
   "mimetype": "text/x-python",
   "name": "python",
   "nbconvert_exporter": "python",
   "pygments_lexer": "ipython3",
   "version": "3.7.6"
  }
 },
 "nbformat": 4,
 "nbformat_minor": 4
}
